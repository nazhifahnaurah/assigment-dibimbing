{
  "cells": [
    {
      "cell_type": "code",
      "execution_count": 1,
      "id": "f474f8a3",
      "metadata": {
        "id": "f474f8a3"
      },
      "outputs": [],
      "source": [
        "import pandas as pd\n",
        "import numpy as np\n",
        "import matplotlib.pyplot as plt\n",
        "import seaborn as sns\n",
        "from sklearn import metrics\n",
        "from sklearn.model_selection import train_test_split\n",
        "from sklearn.tree import DecisionTreeClassifier\n",
        "from sklearn.linear_model import LogisticRegression\n",
        "from sklearn.svm import SVC\n",
        "from sklearn.neighbors import KNeighborsClassifier\n",
        "from sklearn.ensemble import RandomForestClassifier\n",
        "from sklearn.preprocessing import LabelEncoder, StandardScaler\n",
        "from sklearn.metrics import precision_score, \\\n",
        "    recall_score, confusion_matrix, classification_report, \\\n",
        "    accuracy_score, f1_score, roc_auc_score\n",
        "from sklearn.metrics import confusion_matrix,ConfusionMatrixDisplay,classification_report,accuracy_score\n",
        "\n",
        "pd.set_option('display.max_columns', None)\n",
        "pd.set_option('display.max_rows', None)\n",
        "\n",
        "%matplotlib inline"
      ]
    },
    {
      "cell_type": "markdown",
      "id": "HsBRQNWxevS4",
      "metadata": {
        "id": "HsBRQNWxevS4"
      },
      "source": [
        "## Dataset Bank Customer Churn"
      ]
    },
    {
      "cell_type": "code",
      "execution_count": 2,
      "id": "8677fadb",
      "metadata": {
        "colab": {
          "base_uri": "https://localhost:8080/",
          "height": 226
        },
        "id": "8677fadb",
        "outputId": "c5c38e72-2b92-4bfb-f48c-55e05fc931a4"
      },
      "outputs": [
        {
          "data": {
            "text/html": [
              "<div>\n",
              "<style scoped>\n",
              "    .dataframe tbody tr th:only-of-type {\n",
              "        vertical-align: middle;\n",
              "    }\n",
              "\n",
              "    .dataframe tbody tr th {\n",
              "        vertical-align: top;\n",
              "    }\n",
              "\n",
              "    .dataframe thead th {\n",
              "        text-align: right;\n",
              "    }\n",
              "</style>\n",
              "<table border=\"1\" class=\"dataframe\">\n",
              "  <thead>\n",
              "    <tr style=\"text-align: right;\">\n",
              "      <th></th>\n",
              "      <th>customer_id</th>\n",
              "      <th>vintage</th>\n",
              "      <th>age</th>\n",
              "      <th>gender</th>\n",
              "      <th>dependents</th>\n",
              "      <th>occupation</th>\n",
              "      <th>city</th>\n",
              "      <th>customer_nw_category</th>\n",
              "      <th>branch_code</th>\n",
              "      <th>current_balance</th>\n",
              "      <th>previous_month_end_balance</th>\n",
              "      <th>average_monthly_balance_prevQ</th>\n",
              "      <th>average_monthly_balance_prevQ2</th>\n",
              "      <th>current_month_credit</th>\n",
              "      <th>previous_month_credit</th>\n",
              "      <th>current_month_debit</th>\n",
              "      <th>previous_month_debit</th>\n",
              "      <th>current_month_balance</th>\n",
              "      <th>previous_month_balance</th>\n",
              "      <th>churn</th>\n",
              "      <th>last_transaction</th>\n",
              "    </tr>\n",
              "  </thead>\n",
              "  <tbody>\n",
              "    <tr>\n",
              "      <th>0</th>\n",
              "      <td>1</td>\n",
              "      <td>2101</td>\n",
              "      <td>66</td>\n",
              "      <td>Male</td>\n",
              "      <td>0.0</td>\n",
              "      <td>self_employed</td>\n",
              "      <td>187.0</td>\n",
              "      <td>2</td>\n",
              "      <td>755</td>\n",
              "      <td>1458.71</td>\n",
              "      <td>1458.71</td>\n",
              "      <td>1458.71</td>\n",
              "      <td>1449.07</td>\n",
              "      <td>0.20</td>\n",
              "      <td>0.20</td>\n",
              "      <td>0.20</td>\n",
              "      <td>0.20</td>\n",
              "      <td>1458.71</td>\n",
              "      <td>1458.71</td>\n",
              "      <td>0</td>\n",
              "      <td>2019-05-21</td>\n",
              "    </tr>\n",
              "    <tr>\n",
              "      <th>1</th>\n",
              "      <td>2</td>\n",
              "      <td>2348</td>\n",
              "      <td>35</td>\n",
              "      <td>Male</td>\n",
              "      <td>0.0</td>\n",
              "      <td>self_employed</td>\n",
              "      <td>NaN</td>\n",
              "      <td>2</td>\n",
              "      <td>3214</td>\n",
              "      <td>5390.37</td>\n",
              "      <td>8704.66</td>\n",
              "      <td>7799.26</td>\n",
              "      <td>12419.41</td>\n",
              "      <td>0.56</td>\n",
              "      <td>0.56</td>\n",
              "      <td>5486.27</td>\n",
              "      <td>100.56</td>\n",
              "      <td>6496.78</td>\n",
              "      <td>8787.61</td>\n",
              "      <td>0</td>\n",
              "      <td>2019-11-01</td>\n",
              "    </tr>\n",
              "    <tr>\n",
              "      <th>2</th>\n",
              "      <td>4</td>\n",
              "      <td>2194</td>\n",
              "      <td>31</td>\n",
              "      <td>Male</td>\n",
              "      <td>0.0</td>\n",
              "      <td>salaried</td>\n",
              "      <td>146.0</td>\n",
              "      <td>2</td>\n",
              "      <td>41</td>\n",
              "      <td>3913.16</td>\n",
              "      <td>5815.29</td>\n",
              "      <td>4910.17</td>\n",
              "      <td>2815.94</td>\n",
              "      <td>0.61</td>\n",
              "      <td>0.61</td>\n",
              "      <td>6046.73</td>\n",
              "      <td>259.23</td>\n",
              "      <td>5006.28</td>\n",
              "      <td>5070.14</td>\n",
              "      <td>0</td>\n",
              "      <td>NaT</td>\n",
              "    </tr>\n",
              "    <tr>\n",
              "      <th>3</th>\n",
              "      <td>5</td>\n",
              "      <td>2329</td>\n",
              "      <td>90</td>\n",
              "      <td>NaN</td>\n",
              "      <td>NaN</td>\n",
              "      <td>self_employed</td>\n",
              "      <td>1020.0</td>\n",
              "      <td>2</td>\n",
              "      <td>582</td>\n",
              "      <td>2291.91</td>\n",
              "      <td>2291.91</td>\n",
              "      <td>2084.54</td>\n",
              "      <td>1006.54</td>\n",
              "      <td>0.47</td>\n",
              "      <td>0.47</td>\n",
              "      <td>0.47</td>\n",
              "      <td>2143.33</td>\n",
              "      <td>2291.91</td>\n",
              "      <td>1669.79</td>\n",
              "      <td>1</td>\n",
              "      <td>2019-08-06</td>\n",
              "    </tr>\n",
              "    <tr>\n",
              "      <th>4</th>\n",
              "      <td>6</td>\n",
              "      <td>1579</td>\n",
              "      <td>42</td>\n",
              "      <td>Male</td>\n",
              "      <td>2.0</td>\n",
              "      <td>self_employed</td>\n",
              "      <td>1494.0</td>\n",
              "      <td>3</td>\n",
              "      <td>388</td>\n",
              "      <td>927.72</td>\n",
              "      <td>1401.72</td>\n",
              "      <td>1643.31</td>\n",
              "      <td>1871.12</td>\n",
              "      <td>0.33</td>\n",
              "      <td>714.61</td>\n",
              "      <td>588.62</td>\n",
              "      <td>1538.06</td>\n",
              "      <td>1157.15</td>\n",
              "      <td>1677.16</td>\n",
              "      <td>1</td>\n",
              "      <td>2019-11-03</td>\n",
              "    </tr>\n",
              "  </tbody>\n",
              "</table>\n",
              "</div>"
            ],
            "text/plain": [
              "   customer_id  vintage  age gender  dependents     occupation    city  \\\n",
              "0            1     2101   66   Male         0.0  self_employed   187.0   \n",
              "1            2     2348   35   Male         0.0  self_employed     NaN   \n",
              "2            4     2194   31   Male         0.0       salaried   146.0   \n",
              "3            5     2329   90    NaN         NaN  self_employed  1020.0   \n",
              "4            6     1579   42   Male         2.0  self_employed  1494.0   \n",
              "\n",
              "   customer_nw_category  branch_code  current_balance  \\\n",
              "0                     2          755          1458.71   \n",
              "1                     2         3214          5390.37   \n",
              "2                     2           41          3913.16   \n",
              "3                     2          582          2291.91   \n",
              "4                     3          388           927.72   \n",
              "\n",
              "   previous_month_end_balance  average_monthly_balance_prevQ  \\\n",
              "0                     1458.71                        1458.71   \n",
              "1                     8704.66                        7799.26   \n",
              "2                     5815.29                        4910.17   \n",
              "3                     2291.91                        2084.54   \n",
              "4                     1401.72                        1643.31   \n",
              "\n",
              "   average_monthly_balance_prevQ2  current_month_credit  \\\n",
              "0                         1449.07                  0.20   \n",
              "1                        12419.41                  0.56   \n",
              "2                         2815.94                  0.61   \n",
              "3                         1006.54                  0.47   \n",
              "4                         1871.12                  0.33   \n",
              "\n",
              "   previous_month_credit  current_month_debit  previous_month_debit  \\\n",
              "0                   0.20                 0.20                  0.20   \n",
              "1                   0.56              5486.27                100.56   \n",
              "2                   0.61              6046.73                259.23   \n",
              "3                   0.47                 0.47               2143.33   \n",
              "4                 714.61               588.62               1538.06   \n",
              "\n",
              "   current_month_balance  previous_month_balance  churn last_transaction  \n",
              "0                1458.71                 1458.71      0       2019-05-21  \n",
              "1                6496.78                 8787.61      0       2019-11-01  \n",
              "2                5006.28                 5070.14      0              NaT  \n",
              "3                2291.91                 1669.79      1       2019-08-06  \n",
              "4                1157.15                 1677.16      1       2019-11-03  "
            ]
          },
          "execution_count": 2,
          "metadata": {},
          "output_type": "execute_result"
        }
      ],
      "source": [
        "data = pd.read_csv('churn_prediction.csv')\n",
        "data.head()"
      ]
    },
    {
      "cell_type": "code",
      "execution_count": 3,
      "id": "6c884223",
      "metadata": {
        "colab": {
          "base_uri": "https://localhost:8080/"
        },
        "id": "6c884223",
        "outputId": "4e577af7-27ab-494a-a3af-c182d0a33314"
      },
      "outputs": [
        {
          "name": "stdout",
          "output_type": "stream",
          "text": [
            "<class 'pandas.core.frame.DataFrame'>\n",
            "RangeIndex: 28382 entries, 0 to 28381\n",
            "Data columns (total 21 columns):\n",
            " #   Column                          Non-Null Count  Dtype  \n",
            "---  ------                          --------------  -----  \n",
            " 0   customer_id                     28382 non-null  int64  \n",
            " 1   vintage                         28382 non-null  int64  \n",
            " 2   age                             28382 non-null  int64  \n",
            " 3   gender                          27857 non-null  object \n",
            " 4   dependents                      25919 non-null  float64\n",
            " 5   occupation                      28302 non-null  object \n",
            " 6   city                            27579 non-null  float64\n",
            " 7   customer_nw_category            28382 non-null  int64  \n",
            " 8   branch_code                     28382 non-null  int64  \n",
            " 9   current_balance                 28382 non-null  float64\n",
            " 10  previous_month_end_balance      28382 non-null  float64\n",
            " 11  average_monthly_balance_prevQ   28382 non-null  float64\n",
            " 12  average_monthly_balance_prevQ2  28382 non-null  float64\n",
            " 13  current_month_credit            28382 non-null  float64\n",
            " 14  previous_month_credit           28382 non-null  float64\n",
            " 15  current_month_debit             28382 non-null  float64\n",
            " 16  previous_month_debit            28382 non-null  float64\n",
            " 17  current_month_balance           28382 non-null  float64\n",
            " 18  previous_month_balance          28382 non-null  float64\n",
            " 19  churn                           28382 non-null  int64  \n",
            " 20  last_transaction                28382 non-null  object \n",
            "dtypes: float64(12), int64(6), object(3)\n",
            "memory usage: 4.5+ MB\n"
          ]
        }
      ],
      "source": [
        "data.info()"
      ]
    },
    {
      "cell_type": "markdown",
      "id": "a86e22cb",
      "metadata": {
        "id": "a86e22cb"
      },
      "source": [
        "## **Exploratory Data Analysis**"
      ]
    },
    {
      "cell_type": "code",
      "execution_count": 4,
      "id": "51235932",
      "metadata": {
        "colab": {
          "base_uri": "https://localhost:8080/",
          "height": 506
        },
        "id": "51235932",
        "outputId": "0cae22d7-8084-4d4a-e2c3-62419a35188b"
      },
      "outputs": [
        {
          "data": {
            "image/png": "[encoded data removed]",
            "text/plain": [
              "<Figure size 500x500 with 1 Axes>"
            ]
          },
          "metadata": {},
          "output_type": "display_data"
        }
      ],
      "source": [
        "sns.catplot(x = \"churn\", kind = \"count\", data = data);"
      ]
    },
    {
      "cell_type": "markdown",
      "id": "7f1fa817",
      "metadata": {
        "id": "7f1fa817"
      },
      "source": [
        "Here I count the number of unique values ​​in the 'churn' column and then normalize it."
      ]
    },
    {
      "cell_type": "code",
      "execution_count": 5,
      "id": "4e160045",
      "metadata": {
        "colab": {
          "base_uri": "https://localhost:8080/",
          "height": 178
        },
        "id": "4e160045",
        "outputId": "93e1c9c7-11a0-4c28-d560-be4caa5ea286"
      },
      "outputs": [
        {
          "data": {
            "text/plain": [
              "0    0.814671\n",
              "1    0.185329\n",
              "Name: churn, dtype: float64"
            ]
          },
          "execution_count": 5,
          "metadata": {},
          "output_type": "execute_result"
        }
      ],
      "source": [
        "data['churn'].value_counts(normalize=True)"
      ]
    },
    {
      "cell_type": "markdown",
      "id": "9d892e98",
      "metadata": {
        "id": "9d892e98"
      },
      "source": [
        "I can observe there imbalance case in my dataset. The imbalance in the dataset can be addressed in two ways:\n",
        "\n",
        "- During modeling, by adding weight to the model parameters.\n",
        "- After modeling, by adjusting the classification threshold to optimize metrics such as **F1-Score, precision, recall, rather than relying on accuracy, which may be biased due to the imbalance in the target dataset.**"
      ]
    },
    {
      "cell_type": "markdown",
      "id": "3bac5246",
      "metadata": {
        "id": "3bac5246"
      },
      "source": [
        "### **Categorical Data vs Churn**"
      ]
    },
    {
      "cell_type": "code",
      "execution_count": 6,
      "id": "52a1889f",
      "metadata": {
        "id": "52a1889f"
      },
      "outputs": [],
      "source": [
        "def proportional_aggregation(df, y, x):\n",
        "    temp_df = df.groupby([y,x], as_index = False).size()\n",
        "    temp_df['proportional'] = temp_df['size'] / temp_df.groupby(y)['size'].transform('sum')\n",
        "    return temp_df"
      ]
    },
    {
      "cell_type": "markdown",
      "id": "1bb361f4",
      "metadata": {
        "id": "1bb361f4"
      },
      "source": [
        "Here I create a \"proportional aggregation\" function to calculate the relative proportion of a value to the total in a category in certain data."
      ]
    },
    {
      "cell_type": "markdown",
      "id": "e499f462",
      "metadata": {
        "id": "e499f462"
      },
      "source": [
        "### Gender vs Churn"
      ]
    },
    {
      "cell_type": "code",
      "execution_count": 7,
      "id": "c59ad60f",
      "metadata": {
        "colab": {
          "base_uri": "https://localhost:8080/",
          "height": 175
        },
        "id": "c59ad60f",
        "outputId": "0a945942-96cd-449f-bb9b-1e062078fb8f"
      },
      "outputs": [
        {
          "data": {
            "text/html": [
              "<div>\n",
              "<style scoped>\n",
              "    .dataframe tbody tr th:only-of-type {\n",
              "        vertical-align: middle;\n",
              "    }\n",
              "\n",
              "    .dataframe tbody tr th {\n",
              "        vertical-align: top;\n",
              "    }\n",
              "\n",
              "    .dataframe thead th {\n",
              "        text-align: right;\n",
              "    }\n",
              "</style>\n",
              "<table border=\"1\" class=\"dataframe\">\n",
              "  <thead>\n",
              "    <tr style=\"text-align: right;\">\n",
              "      <th></th>\n",
              "      <th>churn</th>\n",
              "      <th>gender</th>\n",
              "      <th>size</th>\n",
              "    </tr>\n",
              "  </thead>\n",
              "  <tbody>\n",
              "    <tr>\n",
              "      <th>0</th>\n",
              "      <td>0</td>\n",
              "      <td>Female</td>\n",
              "      <td>9324</td>\n",
              "    </tr>\n",
              "    <tr>\n",
              "      <th>1</th>\n",
              "      <td>0</td>\n",
              "      <td>Male</td>\n",
              "      <td>13379</td>\n",
              "    </tr>\n",
              "    <tr>\n",
              "      <th>2</th>\n",
              "      <td>1</td>\n",
              "      <td>Female</td>\n",
              "      <td>1985</td>\n",
              "    </tr>\n",
              "    <tr>\n",
              "      <th>3</th>\n",
              "      <td>1</td>\n",
              "      <td>Male</td>\n",
              "      <td>3169</td>\n",
              "    </tr>\n",
              "  </tbody>\n",
              "</table>\n",
              "</div>"
            ],
            "text/plain": [
              "   churn  gender   size\n",
              "0      0  Female   9324\n",
              "1      0    Male  13379\n",
              "2      1  Female   1985\n",
              "3      1    Male   3169"
            ]
          },
          "execution_count": 7,
          "metadata": {},
          "output_type": "execute_result"
        }
      ],
      "source": [
        "temp_raw = data.groupby(['churn','gender'], as_index = False).size()\n",
        "temp_raw"
      ]
    },
    {
      "cell_type": "code",
      "execution_count": 8,
      "id": "c2d4a935",
      "metadata": {
        "colab": {
          "base_uri": "https://localhost:8080/",
          "height": 386
        },
        "id": "c2d4a935",
        "outputId": "ec9e1c44-9d48-4c1f-ba6f-6b7f575675d0"
      },
      "outputs": [
        {
          "data": {
            "image/png": "[encoded data removed]",
            "text/plain": [
              "<Figure size 1500x700 with 1 Axes>"
            ]
          },
          "metadata": {},
          "output_type": "display_data"
        }
      ],
      "source": [
        "data_proportional = proportional_aggregation(data, \"churn\", \"gender\")\n",
        "\n",
        "plt.figure(figsize=(15, 7))\n",
        "sns.barplot(x=\"gender\", y=\"proportional\", hue=\"churn\", data=data_proportional)\n",
        "plt.title(\"Proportional Churn by Gender\")\n",
        "plt.ylabel(\"Proportional\")\n",
        "plt.xlabel(\"Gender\")\n",
        "plt.show()"
      ]
    },
    {
      "cell_type": "markdown",
      "id": "000e5069",
      "metadata": {
        "id": "000e5069"
      },
      "source": [
        "From the bar plot above, there are 1.5 times more male accounts than female accounts."
      ]
    },
    {
      "cell_type": "markdown",
      "id": "396fd568",
      "metadata": {
        "id": "396fd568"
      },
      "source": [
        "### Occupation vs Churn"
      ]
    },
    {
      "cell_type": "code",
      "execution_count": 9,
      "id": "1775151d",
      "metadata": {
        "colab": {
          "base_uri": "https://localhost:8080/",
          "height": 386
        },
        "id": "1775151d",
        "outputId": "c5371a6d-5103-4b3c-e17f-5730bdec288b"
      },
      "outputs": [
        {
          "data": {
            "image/png": "[encoded data removed]",
            "text/plain": [
              "<Figure size 1500x700 with 1 Axes>"
            ]
          },
          "metadata": {},
          "output_type": "display_data"
        }
      ],
      "source": [
        "data_proportional = proportional_aggregation(data, \"churn\", \"occupation\")\n",
        "\n",
        "plt.figure(figsize=(15, 7))\n",
        "sns.barplot(x=\"occupation\", y=\"proportional\", hue=\"churn\", data=data_proportional)\n",
        "plt.title(\"Proportional Churn by Occupation\")\n",
        "plt.ylabel(\"Proportional\")\n",
        "plt.xlabel(\"Occupation\")\n",
        "plt.show()"
      ]
    },
    {
      "cell_type": "markdown",
      "id": "552ce6d4",
      "metadata": {
        "id": "552ce6d4"
      },
      "source": [
        "The majority of individuals in society have jobs as self-employed. At the same time, the number of recorded corporate accounts is very small. This difference can be a focus of attention, especially when seeing transactions that are classified as outliers."
      ]
    },
    {
      "cell_type": "markdown",
      "id": "83759ce5",
      "metadata": {
        "id": "83759ce5"
      },
      "source": [
        "### Customer nw category vs Churn"
      ]
    },
    {
      "cell_type": "code",
      "execution_count": 10,
      "id": "cdb5be0c",
      "metadata": {
        "colab": {
          "base_uri": "https://localhost:8080/",
          "height": 386
        },
        "id": "cdb5be0c",
        "outputId": "79246e86-07ef-438e-8482-5b65cc7f208a"
      },
      "outputs": [
        {
          "data": {
            "image/png": "[encoded data removed]",
            "text/plain": [
              "<Figure size 1500x700 with 1 Axes>"
            ]
          },
          "metadata": {},
          "output_type": "display_data"
        }
      ],
      "source": [
        "data_proportional = proportional_aggregation(data, \"churn\", \"customer_nw_category\")\n",
        "\n",
        "plt.figure(figsize=(15, 7))\n",
        "sns.barplot(x=\"customer_nw_category\", y=\"proportional\", hue=\"churn\", data=data_proportional)\n",
        "plt.title(\"Proportional Churn by customer_nw_category\")\n",
        "plt.ylabel(\"Proportional\")\n",
        "plt.xlabel(\"customer_nw_category\")\n",
        "plt.show()"
      ]
    },
    {
      "cell_type": "markdown",
      "id": "a56eccaf",
      "metadata": {
        "id": "a56eccaf"
      },
      "source": [
        "Customers belonging in the Net Worth Category 2 are the most likely to churn, closely followed by customers belonging to Net Worth Category 3."
      ]
    },
    {
      "cell_type": "markdown",
      "id": "c5ef554f",
      "metadata": {
        "id": "c5ef554f"
      },
      "source": [
        "### **Numerical Data vs Churn**"
      ]
    },
    {
      "cell_type": "markdown",
      "id": "340afc83",
      "metadata": {
        "id": "340afc83"
      },
      "source": [
        "### Age vs Churn"
      ]
    },
    {
      "cell_type": "code",
      "execution_count": 11,
      "id": "b3a61a74",
      "metadata": {
        "colab": {
          "base_uri": "https://localhost:8080/",
          "height": 449
        },
        "id": "b3a61a74",
        "outputId": "86be334b-33f4-490a-b9dc-295f8fc1a53e"
      },
      "outputs": [
        {
          "data": {
            "image/png": "[encoded data removed]",
            "text/plain": [
              "<Figure size 640x480 with 1 Axes>"
            ]
          },
          "metadata": {},
          "output_type": "display_data"
        }
      ],
      "source": [
        "sns.boxplot(x = \"churn\", y = \"age\", data = data);"
      ]
    },
    {
      "cell_type": "markdown",
      "id": "f5516edb",
      "metadata": {
        "id": "f5516edb"
      },
      "source": [
        "The age of most customers is around 30 to 60 years old."
      ]
    },
    {
      "cell_type": "markdown",
      "id": "913655ed",
      "metadata": {
        "id": "913655ed"
      },
      "source": [
        "### Vintage vs Churn"
      ]
    },
    {
      "cell_type": "code",
      "execution_count": 12,
      "id": "d733b726",
      "metadata": {
        "colab": {
          "base_uri": "https://localhost:8080/",
          "height": 449
        },
        "id": "d733b726",
        "outputId": "c9ca6463-7547-4ca7-d17d-f1aab0dba2a8"
      },
      "outputs": [
        {
          "data": {
            "image/png": "[encoded data removed]",
            "text/plain": [
              "<Figure size 640x480 with 1 Axes>"
            ]
          },
          "metadata": {},
          "output_type": "display_data"
        }
      ],
      "source": [
        "sns.boxplot(x = \"churn\", y = \"vintage\", data = data);"
      ]
    },
    {
      "cell_type": "markdown",
      "id": "35ba07be",
      "metadata": {
        "id": "35ba07be"
      },
      "source": [
        "Most customers joined within a time span of approximately 2100 days from the day of data extraction. This may reflect a common registration or membership pattern over a period of time, indicating a certain trend or inclination over time."
      ]
    },
    {
      "cell_type": "markdown",
      "id": "f158f87e",
      "metadata": {
        "id": "f158f87e"
      },
      "source": [
        "### Current month vs Churn"
      ]
    },
    {
      "cell_type": "code",
      "execution_count": 13,
      "id": "a71221eb",
      "metadata": {
        "colab": {
          "base_uri": "https://localhost:8080/",
          "height": 531
        },
        "id": "a71221eb",
        "outputId": "43fa54c9-d001-40f9-dcef-33ee20c13619"
      },
      "outputs": [
        {
          "data": {
            "image/png": "[encoded data removed]",
            "text/plain": [
              "<Figure size 1200x800 with 1 Axes>"
            ]
          },
          "metadata": {},
          "output_type": "display_data"
        }
      ],
      "source": [
        "boxplot_data = data[['churn', 'current_balance', 'current_month_credit', 'current_month_debit', 'current_month_balance']]\n",
        "\n",
        "plt.figure(figsize=(12, 8))\n",
        "sns.boxplot(x=\"variable\", y=\"value\", hue=\"churn\", data=pd.melt(boxplot_data, id_vars=\"churn\"))\n",
        "plt.xlabel('Variable', fontsize=14)\n",
        "plt.ylabel('Value', fontsize=14)\n",
        "plt.title('Boxplot for Churn vs. Numeric Variables', fontsize=16)\n",
        "plt.show()\n"
      ]
    },
    {
      "cell_type": "markdown",
      "id": "7042927c",
      "metadata": {
        "id": "7042927c"
      },
      "source": [
        "The above plot shows very clear outliers from all the columns against churn."
      ]
    },
    {
      "cell_type": "markdown",
      "id": "77eba4c7",
      "metadata": {
        "id": "77eba4c7"
      },
      "source": [
        "### Previous Month vs Churn"
      ]
    },
    {
      "cell_type": "code",
      "execution_count": 14,
      "id": "77df1e30",
      "metadata": {
        "colab": {
          "base_uri": "https://localhost:8080/",
          "height": 538
        },
        "id": "77df1e30",
        "outputId": "d78d8e9a-670b-447b-8f40-ec693fb7cb79"
      },
      "outputs": [
        {
          "data": {
            "image/png": "[encoded data removed]",
            "text/plain": [
              "<Figure size 1200x800 with 1 Axes>"
            ]
          },
          "metadata": {},
          "output_type": "display_data"
        }
      ],
      "source": [
        "boxplot_data = data[['churn', 'previous_month_end_balance', 'previous_month_credit', 'previous_month_debit', 'previous_month_balance']]\n",
        "\n",
        "plt.figure(figsize=(12, 8))\n",
        "sns.boxplot(x=\"variable\", y=\"value\", hue=\"churn\", data=pd.melt(boxplot_data, id_vars=\"churn\"))\n",
        "plt.xlabel('Variable', fontsize=14)\n",
        "plt.ylabel('Value', fontsize=14)\n",
        "plt.title('Boxplot for Churn vs. Numeric Variables', fontsize=16)\n",
        "plt.show()"
      ]
    },
    {
      "cell_type": "markdown",
      "id": "e5c73312",
      "metadata": {
        "id": "e5c73312"
      },
      "source": [
        "Here it can be seen that most customers make transactions in small amounts."
      ]
    },
    {
      "cell_type": "markdown",
      "id": "9fa0b6ea",
      "metadata": {
        "id": "9fa0b6ea"
      },
      "source": [
        "### Previous quarters vs Churn"
      ]
    },
    {
      "cell_type": "code",
      "execution_count": 15,
      "id": "e98c6fd8",
      "metadata": {
        "colab": {
          "base_uri": "https://localhost:8080/",
          "height": 538
        },
        "id": "e98c6fd8",
        "outputId": "c2cde877-abab-4482-a88f-2d302f699b7f"
      },
      "outputs": [
        {
          "data": {
            "image/png": "[encoded data removed]",
            "text/plain": [
              "<Figure size 1200x800 with 1 Axes>"
            ]
          },
          "metadata": {},
          "output_type": "display_data"
        }
      ],
      "source": [
        "boxplot_data = data[['churn', 'average_monthly_balance_prevQ', 'average_monthly_balance_prevQ2']]\n",
        "\n",
        "plt.figure(figsize=(12, 8))\n",
        "sns.boxplot(x=\"variable\", y=\"value\", hue=\"churn\", data=pd.melt(boxplot_data, id_vars=\"churn\"))\n",
        "plt.xlabel('Variable', fontsize=14)\n",
        "plt.ylabel('Value', fontsize=14)\n",
        "plt.title('Boxplot for Churn vs. Numeric Variables', fontsize=16)\n",
        "plt.show()"
      ]
    },
    {
      "cell_type": "markdown",
      "id": "7851d41f",
      "metadata": {
        "id": "7851d41f"
      },
      "source": [
        "average monthly balance prevQ and average_monthly_balance_prevQ2 look the same. What needs to be considered here is whether there are similarities between customers who make large transactions."
      ]
    },
    {
      "cell_type": "markdown",
      "id": "fa778e6d",
      "metadata": {
        "id": "fa778e6d"
      },
      "source": [
        "### **Feature Engineering**\n",
        "1. Missing Value Checking\n",
        "2. Encoding"
      ]
    },
    {
      "cell_type": "code",
      "execution_count": 16,
      "id": "75d86460",
      "metadata": {
        "colab": {
          "base_uri": "https://localhost:8080/"
        },
        "id": "75d86460",
        "outputId": "ac78a9b1-dd4c-45eb-a1c0-ceabb783fb7e"
      },
      "outputs": [
        {
          "data": {
            "text/plain": [
              "(28382, 21)"
            ]
          },
          "execution_count": 16,
          "metadata": {},
          "output_type": "execute_result"
        }
      ],
      "source": [
        "data.shape"
      ]
    },
    {
      "cell_type": "code",
      "execution_count": 17,
      "id": "27bb8d30",
      "metadata": {
        "colab": {
          "base_uri": "https://localhost:8080/",
          "height": 1000
        },
        "id": "27bb8d30",
        "outputId": "7439335c-9e35-4384-a575-64cbb704f3e7"
      },
      "outputs": [
        {
          "data": {
            "text/plain": [
              "NaT           3223\n",
              "2019-12-31    1672\n",
              "2019-12-28     831\n",
              "2019-12-17     654\n",
              "2019-12-27     632\n",
              "2019-12-25     596\n",
              "2019-12-26     576\n",
              "2019-12-24     561\n",
              "2019-12-20     486\n",
              "2019-12-18     478\n",
              "2019-12-22     476\n",
              "2019-12-11     472\n",
              "2019-12-10     468\n",
              "2019-12-19     459\n",
              "2019-12-14     447\n",
              "2019-12-03     427\n",
              "2019-12-12     408\n",
              "2019-12-13     398\n",
              "2019-12-07     398\n",
              "2019-12-05     346\n",
              "2019-12-08     341\n",
              "2019-12-21     322\n",
              "2019-12-04     318\n",
              "2019-12-06     316\n",
              "2019-11-26     238\n",
              "2019-11-28     223\n",
              "2019-11-30     218\n",
              "2019-11-29     201\n",
              "2019-11-21     193\n",
              "2019-12-01     191\n",
              "2019-11-23     184\n",
              "2019-11-12     179\n",
              "2019-11-13     173\n",
              "2019-11-22     167\n",
              "2019-11-19     164\n",
              "2019-11-20     164\n",
              "2019-11-08     160\n",
              "2019-10-31     159\n",
              "2019-11-14     153\n",
              "2019-10-29     151\n",
              "2019-11-15     144\n",
              "2019-11-05     143\n",
              "2019-11-01     136\n",
              "2019-10-30     135\n",
              "2019-11-06     133\n",
              "2019-11-09     124\n",
              "2019-11-16     117\n",
              "2019-10-16     116\n",
              "2019-09-27     115\n",
              "2019-11-07     115\n",
              "2019-11-17     114\n",
              "2019-10-15     108\n",
              "2019-10-01     108\n",
              "2019-10-23     107\n",
              "2019-11-02     107\n",
              "2019-10-19     106\n",
              "2019-11-03     102\n",
              "2019-10-22      99\n",
              "2019-10-12      93\n",
              "2019-10-09      91\n",
              "2019-10-17      91\n",
              "2019-10-24      91\n",
              "2019-10-18      90\n",
              "2019-10-03      85\n",
              "2019-10-05      83\n",
              "2019-10-02      83\n",
              "2019-09-14      82\n",
              "2019-10-20      81\n",
              "2019-09-19      78\n",
              "2019-09-17      78\n",
              "2019-09-28      78\n",
              "2019-10-11      77\n",
              "2019-10-08      77\n",
              "2019-10-04      77\n",
              "2019-09-18      76\n",
              "2019-12-29      74\n",
              "2019-10-06      73\n",
              "2019-09-25      71\n",
              "2019-09-20      69\n",
              "2019-09-06      66\n",
              "2019-12-30      66\n",
              "2019-09-08      63\n",
              "2019-09-24      63\n",
              "2019-10-25      63\n",
              "2019-09-10      62\n",
              "2019-09-22      61\n",
              "2019-08-13      59\n",
              "2019-09-07      59\n",
              "2019-08-24      58\n",
              "2019-07-31      58\n",
              "2019-08-27      57\n",
              "2019-09-03      56\n",
              "2019-09-21      55\n",
              "2019-09-04      55\n",
              "2019-07-30      54\n",
              "2019-08-15      54\n",
              "2019-09-05      53\n",
              "2019-08-21      53\n",
              "2019-08-07      52\n",
              "2019-07-17      51\n",
              "2019-08-29      51\n",
              "2019-07-02      51\n",
              "2019-08-14      50\n",
              "2019-12-23      49\n",
              "2019-08-08      47\n",
              "2019-08-28      47\n",
              "2019-08-31      46\n",
              "2019-07-24      45\n",
              "2019-08-20      45\n",
              "2019-07-11      45\n",
              "2019-08-22      45\n",
              "2019-08-01      44\n",
              "2019-09-01      44\n",
              "2019-12-15      43\n",
              "2019-09-11      43\n",
              "2019-08-04      42\n",
              "2019-07-12      41\n",
              "2019-12-16      41\n",
              "2019-07-16      40\n",
              "2019-05-18      40\n",
              "2019-08-09      39\n",
              "2019-08-02      39\n",
              "2019-06-20      38\n",
              "2019-08-30      37\n",
              "2019-07-06      36\n",
              "2019-01-29      36\n",
              "2019-08-06      36\n",
              "2019-08-16      36\n",
              "2019-07-09      36\n",
              "2019-07-05      36\n",
              "2019-08-10      36\n",
              "2019-07-13      36\n",
              "2019-06-29      35\n",
              "2019-06-14      35\n",
              "2019-07-10      34\n",
              "2019-07-23      33\n",
              "2019-06-28      33\n",
              "2019-07-25      33\n",
              "2019-12-09      33\n",
              "2019-06-23      32\n",
              "2019-07-03      32\n",
              "2019-08-17      32\n",
              "2019-06-09      32\n",
              "2019-06-18      32\n",
              "2019-06-21      32\n",
              "2019-06-26      32\n",
              "2019-06-25      31\n",
              "2019-07-20      31\n",
              "2019-07-18      31\n",
              "2019-06-11      31\n",
              "2019-09-13      31\n",
              "2019-07-26      30\n",
              "2019-02-05      30\n",
              "2019-01-24      30\n",
              "2019-08-18      29\n",
              "2019-05-30      29\n",
              "2019-06-05      29\n",
              "2019-05-24      29\n",
              "2019-06-13      29\n",
              "2019-05-08      28\n",
              "2019-06-19      28\n",
              "2019-07-21      27\n",
              "2019-05-01      27\n",
              "2019-01-26      27\n",
              "2019-06-22      27\n",
              "2019-05-31      27\n",
              "2019-11-25      27\n",
              "2019-06-04      26\n",
              "2019-05-16      26\n",
              "2019-05-21      26\n",
              "2019-07-04      26\n",
              "2019-06-12      25\n",
              "2019-04-03      25\n",
              "2019-06-07      25\n",
              "2019-01-16      25\n",
              "2019-03-14      25\n",
              "2019-06-06      24\n",
              "2019-04-16      24\n",
              "2019-01-23      24\n",
              "2019-03-06      24\n",
              "2019-11-24      24\n",
              "2019-04-23      24\n",
              "2019-02-26      24\n",
              "2019-01-15      24\n",
              "2019-05-17      24\n",
              "2019-05-14      24\n",
              "2019-05-28      23\n",
              "2019-02-14      23\n",
              "2019-01-25      23\n",
              "2019-04-27      23\n",
              "2019-06-08      23\n",
              "2019-04-02      23\n",
              "2019-02-16      23\n",
              "2019-06-02      22\n",
              "2019-06-15      22\n",
              "2019-05-09      22\n",
              "2019-03-05      22\n",
              "2019-03-12      22\n",
              "2019-03-29      22\n",
              "2019-02-19      22\n",
              "2019-04-17      21\n",
              "2019-04-24      21\n",
              "2019-05-07      21\n",
              "2019-04-30      21\n",
              "2019-03-23      21\n",
              "2019-04-19      21\n",
              "2019-02-06      21\n",
              "2019-05-11      21\n",
              "2019-06-27      21\n",
              "2019-03-22      21\n",
              "2019-05-23      21\n",
              "2019-01-22      20\n",
              "2019-04-13      20\n",
              "2019-03-27      20\n",
              "2019-05-05      20\n",
              "2019-02-03      20\n",
              "2019-06-30      20\n",
              "2019-01-30      20\n",
              "2019-03-07      20\n",
              "2019-03-30      20\n",
              "2019-01-09      20\n",
              "2019-05-15      20\n",
              "2019-03-09      20\n",
              "2019-04-11      20\n",
              "2019-02-10      20\n",
              "2019-05-22      19\n",
              "2019-06-01      19\n",
              "2019-03-28      19\n",
              "2019-04-28      19\n",
              "2019-05-26      19\n",
              "2019-04-21      19\n",
              "2019-05-12      19\n",
              "2019-03-13      19\n",
              "2019-11-10      19\n",
              "2019-03-19      19\n",
              "2019-03-08      19\n",
              "2019-04-25      19\n",
              "2019-02-28      18\n",
              "2019-05-10      18\n",
              "2019-03-16      18\n",
              "2019-02-22      18\n",
              "2019-02-15      18\n",
              "2019-03-26      18\n",
              "2019-04-12      18\n",
              "2019-10-07      18\n",
              "2019-03-20      18\n",
              "2019-04-26      18\n",
              "2019-02-08      17\n",
              "2019-01-03      17\n",
              "2019-05-02      17\n",
              "2019-02-12      17\n",
              "2019-04-07      17\n",
              "2019-02-27      17\n",
              "2019-04-09      17\n",
              "2019-01-19      17\n",
              "2019-11-27      17\n",
              "2019-05-25      17\n",
              "2019-04-20      16\n",
              "2019-01-08      16\n",
              "2019-02-09      16\n",
              "2019-05-04      16\n",
              "2019-07-19      16\n",
              "2019-04-10      16\n",
              "2019-04-06      16\n",
              "2019-04-18      15\n",
              "2019-05-29      15\n",
              "2019-03-21      15\n",
              "2019-05-03      15\n",
              "2019-02-21      15\n",
              "2019-12-02      15\n",
              "2019-01-18      15\n",
              "2019-10-27      14\n",
              "2019-02-07      14\n",
              "2019-03-15      14\n",
              "2019-03-10      14\n",
              "2019-11-18      14\n",
              "2019-04-05      13\n",
              "2019-11-04      13\n",
              "2019-07-07      13\n",
              "2019-03-03      13\n",
              "2019-01-10      13\n",
              "2019-09-26      13\n",
              "2019-07-27      13\n",
              "2019-02-23      13\n",
              "2019-02-20      13\n",
              "2019-03-01      13\n",
              "2019-02-01      12\n",
              "2019-04-04      12\n",
              "2019-01-04      12\n",
              "2019-09-12      12\n",
              "2019-01-20      12\n",
              "2019-03-31      12\n",
              "2019-01-02      12\n",
              "2019-02-02      12\n",
              "2019-01-06      12\n",
              "2019-04-14      11\n",
              "2019-03-24      11\n",
              "2019-01-11      11\n",
              "2019-10-13      11\n",
              "2019-11-11      11\n",
              "2019-03-02      10\n",
              "2019-03-17      10\n",
              "2019-09-29      10\n",
              "2019-10-14      10\n",
              "2019-09-23      10\n",
              "2019-01-13       9\n",
              "2019-10-21       9\n",
              "2019-02-17       9\n",
              "2019-10-26       9\n",
              "2019-01-12       8\n",
              "2019-09-15       8\n",
              "2019-10-28       8\n",
              "2019-01-27       7\n",
              "2019-09-02       7\n",
              "2019-01-01       7\n",
              "2019-02-24       7\n",
              "2019-08-12       6\n",
              "2019-01-17       6\n",
              "2019-08-23       5\n",
              "2019-06-16       4\n",
              "2019-07-28       4\n",
              "2019-01-05       4\n",
              "2019-08-26       4\n",
              "2019-01-21       4\n",
              "2019-10-10       4\n",
              "2019-09-09       4\n",
              "2019-07-22       4\n",
              "2019-05-19       4\n",
              "2019-03-11       3\n",
              "2019-04-29       3\n",
              "2019-05-06       3\n",
              "2019-06-17       3\n",
              "2019-02-04       3\n",
              "2019-04-15       3\n",
              "2019-01-28       3\n",
              "2018-12-31       3\n",
              "2019-06-24       3\n",
              "2019-07-08       2\n",
              "2019-02-11       2\n",
              "2019-08-25       2\n",
              "2019-07-15       2\n",
              "2019-08-05       2\n",
              "2019-04-01       2\n",
              "2019-08-03       2\n",
              "2019-06-03       2\n",
              "2019-03-04       2\n",
              "2019-09-16       2\n",
              "2019-04-08       2\n",
              "2019-01-14       1\n",
              "2019-07-14       1\n",
              "2019-02-13       1\n",
              "2019-07-29       1\n",
              "2019-05-27       1\n",
              "2019-08-19       1\n",
              "2019-05-13       1\n",
              "2019-03-18       1\n",
              "2019-02-25       1\n",
              "2019-05-20       1\n",
              "2019-07-01       1\n",
              "2019-09-30       1\n",
              "2019-01-31       1\n",
              "Name: last_transaction, dtype: int64"
            ]
          },
          "execution_count": 17,
          "metadata": {},
          "output_type": "execute_result"
        }
      ],
      "source": [
        "data['last_transaction'].value_counts()"
      ]
    },
    {
      "cell_type": "code",
      "execution_count": 18,
      "id": "6171946d",
      "metadata": {
        "id": "6171946d"
      },
      "outputs": [],
      "source": [
        "data = data[data['last_transaction'] != 'NaT'].reset_index(drop=True)"
      ]
    },
    {
      "cell_type": "code",
      "execution_count": 19,
      "id": "bac6bbd7",
      "metadata": {
        "id": "bac6bbd7"
      },
      "outputs": [],
      "source": [
        "data['last_transaction'] = pd.to_datetime(data['last_transaction'])\n",
        "\n",
        "date = pd.DatetimeIndex(data['last_transaction'])\n",
        "\n",
        "data['doy_ls_tran'] = date.dayofyear\n",
        "data['moy_ls_tran'] = date.month\n",
        "data['dow_ls_tran'] = date.dayofweek"
      ]
    },
    {
      "cell_type": "code",
      "execution_count": 20,
      "id": "c355403d",
      "metadata": {
        "colab": {
          "base_uri": "https://localhost:8080/",
          "height": 805
        },
        "id": "c355403d",
        "outputId": "cd8666cf-89a6-43a0-d0ff-cc8f47cf791e"
      },
      "outputs": [
        {
          "data": {
            "text/plain": [
              "customer_id                         int64\n",
              "vintage                             int64\n",
              "age                                 int64\n",
              "gender                             object\n",
              "dependents                        float64\n",
              "occupation                         object\n",
              "city                              float64\n",
              "customer_nw_category                int64\n",
              "branch_code                         int64\n",
              "current_balance                   float64\n",
              "previous_month_end_balance        float64\n",
              "average_monthly_balance_prevQ     float64\n",
              "average_monthly_balance_prevQ2    float64\n",
              "current_month_credit              float64\n",
              "previous_month_credit             float64\n",
              "current_month_debit               float64\n",
              "previous_month_debit              float64\n",
              "current_month_balance             float64\n",
              "previous_month_balance            float64\n",
              "churn                               int64\n",
              "doy_ls_tran                         int64\n",
              "moy_ls_tran                         int64\n",
              "dow_ls_tran                         int64\n",
              "dtype: object"
            ]
          },
          "execution_count": 20,
          "metadata": {},
          "output_type": "execute_result"
        }
      ],
      "source": [
        "data = data.drop(columns = ['last_transaction'])\n",
        "data.dtypes"
      ]
    },
    {
      "cell_type": "markdown",
      "id": "4025e316",
      "metadata": {
        "id": "4025e316"
      },
      "source": [
        "### Missing Value Handling"
      ]
    },
    {
      "cell_type": "code",
      "execution_count": 21,
      "id": "ec9e2e2f",
      "metadata": {
        "colab": {
          "base_uri": "https://localhost:8080/",
          "height": 805
        },
        "id": "ec9e2e2f",
        "outputId": "ca6356f1-e160-4de9-f6c3-c79eaaffec80"
      },
      "outputs": [
        {
          "data": {
            "text/plain": [
              "customer_id                          0\n",
              "vintage                              0\n",
              "age                                  0\n",
              "gender                             461\n",
              "dependents                        2167\n",
              "occupation                          68\n",
              "city                               685\n",
              "customer_nw_category                 0\n",
              "branch_code                          0\n",
              "current_balance                      0\n",
              "previous_month_end_balance           0\n",
              "average_monthly_balance_prevQ        0\n",
              "average_monthly_balance_prevQ2       0\n",
              "current_month_credit                 0\n",
              "previous_month_credit                0\n",
              "current_month_debit                  0\n",
              "previous_month_debit                 0\n",
              "current_month_balance                0\n",
              "previous_month_balance               0\n",
              "churn                                0\n",
              "doy_ls_tran                          0\n",
              "moy_ls_tran                          0\n",
              "dow_ls_tran                          0\n",
              "dtype: int64"
            ]
          },
          "execution_count": 21,
          "metadata": {},
          "output_type": "execute_result"
        }
      ],
      "source": [
        "data.isna().sum()"
      ]
    },
    {
      "cell_type": "markdown",
      "id": "e4b14a2c",
      "metadata": {
        "id": "e4b14a2c"
      },
      "source": [
        "There are missing values ​​in the gender, dependents, occupation, and city columns."
      ]
    },
    {
      "cell_type": "code",
      "execution_count": 22,
      "id": "1812009a",
      "metadata": {
        "id": "1812009a"
      },
      "outputs": [],
      "source": [
        "data.dropna(inplace=True)"
      ]
    },
    {
      "cell_type": "code",
      "execution_count": 23,
      "id": "586bbf88",
      "metadata": {
        "colab": {
          "base_uri": "https://localhost:8080/",
          "height": 805
        },
        "id": "586bbf88",
        "outputId": "22557f20-d864-4e9e-a60d-86d268554a54"
      },
      "outputs": [
        {
          "data": {
            "text/plain": [
              "customer_id                       0\n",
              "vintage                           0\n",
              "age                               0\n",
              "gender                            0\n",
              "dependents                        0\n",
              "occupation                        0\n",
              "city                              0\n",
              "customer_nw_category              0\n",
              "branch_code                       0\n",
              "current_balance                   0\n",
              "previous_month_end_balance        0\n",
              "average_monthly_balance_prevQ     0\n",
              "average_monthly_balance_prevQ2    0\n",
              "current_month_credit              0\n",
              "previous_month_credit             0\n",
              "current_month_debit               0\n",
              "previous_month_debit              0\n",
              "current_month_balance             0\n",
              "previous_month_balance            0\n",
              "churn                             0\n",
              "doy_ls_tran                       0\n",
              "moy_ls_tran                       0\n",
              "dow_ls_tran                       0\n",
              "dtype: int64"
            ]
          },
          "execution_count": 23,
          "metadata": {},
          "output_type": "execute_result"
        }
      ],
      "source": [
        "data.isna().sum()"
      ]
    },
    {
      "cell_type": "markdown",
      "id": "d34fe039",
      "metadata": {
        "id": "d34fe039"
      },
      "source": [
        "### Encoding"
      ]
    },
    {
      "cell_type": "markdown",
      "id": "3b3d2229",
      "metadata": {
        "id": "3b3d2229"
      },
      "source": [
        "Perform one-hot encoding on categorical data in the gender and occupation columns"
      ]
    },
    {
      "cell_type": "code",
      "execution_count": 24,
      "id": "62995ceb",
      "metadata": {
        "colab": {
          "base_uri": "https://localhost:8080/",
          "height": 226
        },
        "id": "62995ceb",
        "outputId": "28cbe740-9a0b-40a5-bb6d-caf64517616a"
      },
      "outputs": [
        {
          "data": {
            "text/html": [
              "<div>\n",
              "<style scoped>\n",
              "    .dataframe tbody tr th:only-of-type {\n",
              "        vertical-align: middle;\n",
              "    }\n",
              "\n",
              "    .dataframe tbody tr th {\n",
              "        vertical-align: top;\n",
              "    }\n",
              "\n",
              "    .dataframe thead th {\n",
              "        text-align: right;\n",
              "    }\n",
              "</style>\n",
              "<table border=\"1\" class=\"dataframe\">\n",
              "  <thead>\n",
              "    <tr style=\"text-align: right;\">\n",
              "      <th></th>\n",
              "      <th>customer_id</th>\n",
              "      <th>vintage</th>\n",
              "      <th>age</th>\n",
              "      <th>gender</th>\n",
              "      <th>dependents</th>\n",
              "      <th>occupation</th>\n",
              "      <th>city</th>\n",
              "      <th>customer_nw_category</th>\n",
              "      <th>branch_code</th>\n",
              "      <th>current_balance</th>\n",
              "      <th>previous_month_end_balance</th>\n",
              "      <th>average_monthly_balance_prevQ</th>\n",
              "      <th>average_monthly_balance_prevQ2</th>\n",
              "      <th>current_month_credit</th>\n",
              "      <th>previous_month_credit</th>\n",
              "      <th>current_month_debit</th>\n",
              "      <th>previous_month_debit</th>\n",
              "      <th>current_month_balance</th>\n",
              "      <th>previous_month_balance</th>\n",
              "      <th>churn</th>\n",
              "      <th>doy_ls_tran</th>\n",
              "      <th>moy_ls_tran</th>\n",
              "      <th>dow_ls_tran</th>\n",
              "    </tr>\n",
              "  </thead>\n",
              "  <tbody>\n",
              "    <tr>\n",
              "      <th>0</th>\n",
              "      <td>1</td>\n",
              "      <td>2101</td>\n",
              "      <td>66</td>\n",
              "      <td>Male</td>\n",
              "      <td>0.0</td>\n",
              "      <td>self_employed</td>\n",
              "      <td>187.0</td>\n",
              "      <td>2</td>\n",
              "      <td>755</td>\n",
              "      <td>1458.71</td>\n",
              "      <td>1458.71</td>\n",
              "      <td>1458.71</td>\n",
              "      <td>1449.07</td>\n",
              "      <td>0.20</td>\n",
              "      <td>0.20</td>\n",
              "      <td>0.20</td>\n",
              "      <td>0.20</td>\n",
              "      <td>1458.71</td>\n",
              "      <td>1458.71</td>\n",
              "      <td>0</td>\n",
              "      <td>141</td>\n",
              "      <td>5</td>\n",
              "      <td>1</td>\n",
              "    </tr>\n",
              "    <tr>\n",
              "      <th>3</th>\n",
              "      <td>6</td>\n",
              "      <td>1579</td>\n",
              "      <td>42</td>\n",
              "      <td>Male</td>\n",
              "      <td>2.0</td>\n",
              "      <td>self_employed</td>\n",
              "      <td>1494.0</td>\n",
              "      <td>3</td>\n",
              "      <td>388</td>\n",
              "      <td>927.72</td>\n",
              "      <td>1401.72</td>\n",
              "      <td>1643.31</td>\n",
              "      <td>1871.12</td>\n",
              "      <td>0.33</td>\n",
              "      <td>714.61</td>\n",
              "      <td>588.62</td>\n",
              "      <td>1538.06</td>\n",
              "      <td>1157.15</td>\n",
              "      <td>1677.16</td>\n",
              "      <td>1</td>\n",
              "      <td>307</td>\n",
              "      <td>11</td>\n",
              "      <td>6</td>\n",
              "    </tr>\n",
              "    <tr>\n",
              "      <th>4</th>\n",
              "      <td>7</td>\n",
              "      <td>1923</td>\n",
              "      <td>42</td>\n",
              "      <td>Female</td>\n",
              "      <td>0.0</td>\n",
              "      <td>self_employed</td>\n",
              "      <td>1096.0</td>\n",
              "      <td>2</td>\n",
              "      <td>1666</td>\n",
              "      <td>15202.20</td>\n",
              "      <td>16059.34</td>\n",
              "      <td>15211.29</td>\n",
              "      <td>13798.82</td>\n",
              "      <td>0.36</td>\n",
              "      <td>0.36</td>\n",
              "      <td>857.50</td>\n",
              "      <td>286.07</td>\n",
              "      <td>15719.44</td>\n",
              "      <td>15349.75</td>\n",
              "      <td>0</td>\n",
              "      <td>305</td>\n",
              "      <td>11</td>\n",
              "      <td>4</td>\n",
              "    </tr>\n",
              "    <tr>\n",
              "      <th>5</th>\n",
              "      <td>8</td>\n",
              "      <td>2048</td>\n",
              "      <td>72</td>\n",
              "      <td>Male</td>\n",
              "      <td>0.0</td>\n",
              "      <td>retired</td>\n",
              "      <td>1020.0</td>\n",
              "      <td>1</td>\n",
              "      <td>1</td>\n",
              "      <td>7006.93</td>\n",
              "      <td>7714.19</td>\n",
              "      <td>7859.74</td>\n",
              "      <td>11232.37</td>\n",
              "      <td>0.64</td>\n",
              "      <td>0.64</td>\n",
              "      <td>1299.64</td>\n",
              "      <td>439.26</td>\n",
              "      <td>7076.06</td>\n",
              "      <td>7755.98</td>\n",
              "      <td>0</td>\n",
              "      <td>267</td>\n",
              "      <td>9</td>\n",
              "      <td>1</td>\n",
              "    </tr>\n",
              "    <tr>\n",
              "      <th>6</th>\n",
              "      <td>9</td>\n",
              "      <td>2009</td>\n",
              "      <td>46</td>\n",
              "      <td>Male</td>\n",
              "      <td>0.0</td>\n",
              "      <td>self_employed</td>\n",
              "      <td>623.0</td>\n",
              "      <td>2</td>\n",
              "      <td>317</td>\n",
              "      <td>10096.58</td>\n",
              "      <td>8519.53</td>\n",
              "      <td>6511.82</td>\n",
              "      <td>16314.17</td>\n",
              "      <td>0.27</td>\n",
              "      <td>0.27</td>\n",
              "      <td>443.13</td>\n",
              "      <td>5688.44</td>\n",
              "      <td>8563.84</td>\n",
              "      <td>5317.04</td>\n",
              "      <td>0</td>\n",
              "      <td>193</td>\n",
              "      <td>7</td>\n",
              "      <td>4</td>\n",
              "    </tr>\n",
              "  </tbody>\n",
              "</table>\n",
              "</div>"
            ],
            "text/plain": [
              "   customer_id  vintage  age  gender  dependents     occupation    city  \\\n",
              "0            1     2101   66    Male         0.0  self_employed   187.0   \n",
              "3            6     1579   42    Male         2.0  self_employed  1494.0   \n",
              "4            7     1923   42  Female         0.0  self_employed  1096.0   \n",
              "5            8     2048   72    Male         0.0        retired  1020.0   \n",
              "6            9     2009   46    Male         0.0  self_employed   623.0   \n",
              "\n",
              "   customer_nw_category  branch_code  current_balance  \\\n",
              "0                     2          755          1458.71   \n",
              "3                     3          388           927.72   \n",
              "4                     2         1666         15202.20   \n",
              "5                     1            1          7006.93   \n",
              "6                     2          317         10096.58   \n",
              "\n",
              "   previous_month_end_balance  average_monthly_balance_prevQ  \\\n",
              "0                     1458.71                        1458.71   \n",
              "3                     1401.72                        1643.31   \n",
              "4                    16059.34                       15211.29   \n",
              "5                     7714.19                        7859.74   \n",
              "6                     8519.53                        6511.82   \n",
              "\n",
              "   average_monthly_balance_prevQ2  current_month_credit  \\\n",
              "0                         1449.07                  0.20   \n",
              "3                         1871.12                  0.33   \n",
              "4                        13798.82                  0.36   \n",
              "5                        11232.37                  0.64   \n",
              "6                        16314.17                  0.27   \n",
              "\n",
              "   previous_month_credit  current_month_debit  previous_month_debit  \\\n",
              "0                   0.20                 0.20                  0.20   \n",
              "3                 714.61               588.62               1538.06   \n",
              "4                   0.36               857.50                286.07   \n",
              "5                   0.64              1299.64                439.26   \n",
              "6                   0.27               443.13               5688.44   \n",
              "\n",
              "   current_month_balance  previous_month_balance  churn  doy_ls_tran  \\\n",
              "0                1458.71                 1458.71      0          141   \n",
              "3                1157.15                 1677.16      1          307   \n",
              "4               15719.44                15349.75      0          305   \n",
              "5                7076.06                 7755.98      0          267   \n",
              "6                8563.84                 5317.04      0          193   \n",
              "\n",
              "   moy_ls_tran  dow_ls_tran  \n",
              "0            5            1  \n",
              "3           11            6  \n",
              "4           11            4  \n",
              "5            9            1  \n",
              "6            7            4  "
            ]
          },
          "execution_count": 24,
          "metadata": {},
          "output_type": "execute_result"
        }
      ],
      "source": [
        "data.head()"
      ]
    },
    {
      "cell_type": "code",
      "execution_count": 25,
      "id": "ea3cb895",
      "metadata": {
        "colab": {
          "base_uri": "https://localhost:8080/",
          "height": 226
        },
        "id": "ea3cb895",
        "outputId": "4b5fe4bc-c570-49ab-b54f-bb8bedb07547"
      },
      "outputs": [
        {
          "data": {
            "text/html": [
              "<div>\n",
              "<style scoped>\n",
              "    .dataframe tbody tr th:only-of-type {\n",
              "        vertical-align: middle;\n",
              "    }\n",
              "\n",
              "    .dataframe tbody tr th {\n",
              "        vertical-align: top;\n",
              "    }\n",
              "\n",
              "    .dataframe thead th {\n",
              "        text-align: right;\n",
              "    }\n",
              "</style>\n",
              "<table border=\"1\" class=\"dataframe\">\n",
              "  <thead>\n",
              "    <tr style=\"text-align: right;\">\n",
              "      <th></th>\n",
              "      <th>customer_id</th>\n",
              "      <th>vintage</th>\n",
              "      <th>age</th>\n",
              "      <th>dependents</th>\n",
              "      <th>city</th>\n",
              "      <th>customer_nw_category</th>\n",
              "      <th>branch_code</th>\n",
              "      <th>current_balance</th>\n",
              "      <th>previous_month_end_balance</th>\n",
              "      <th>average_monthly_balance_prevQ</th>\n",
              "      <th>average_monthly_balance_prevQ2</th>\n",
              "      <th>current_month_credit</th>\n",
              "      <th>previous_month_credit</th>\n",
              "      <th>current_month_debit</th>\n",
              "      <th>previous_month_debit</th>\n",
              "      <th>current_month_balance</th>\n",
              "      <th>previous_month_balance</th>\n",
              "      <th>churn</th>\n",
              "      <th>doy_ls_tran</th>\n",
              "      <th>moy_ls_tran</th>\n",
              "      <th>dow_ls_tran</th>\n",
              "      <th>gender_Male</th>\n",
              "      <th>occupation_retired</th>\n",
              "      <th>occupation_salaried</th>\n",
              "      <th>occupation_self_employed</th>\n",
              "      <th>occupation_student</th>\n",
              "    </tr>\n",
              "  </thead>\n",
              "  <tbody>\n",
              "    <tr>\n",
              "      <th>0</th>\n",
              "      <td>1</td>\n",
              "      <td>2101</td>\n",
              "      <td>66</td>\n",
              "      <td>0.0</td>\n",
              "      <td>187.0</td>\n",
              "      <td>2</td>\n",
              "      <td>755</td>\n",
              "      <td>1458.71</td>\n",
              "      <td>1458.71</td>\n",
              "      <td>1458.71</td>\n",
              "      <td>1449.07</td>\n",
              "      <td>0.20</td>\n",
              "      <td>0.20</td>\n",
              "      <td>0.20</td>\n",
              "      <td>0.20</td>\n",
              "      <td>1458.71</td>\n",
              "      <td>1458.71</td>\n",
              "      <td>0</td>\n",
              "      <td>141</td>\n",
              "      <td>5</td>\n",
              "      <td>1</td>\n",
              "      <td>1</td>\n",
              "      <td>0</td>\n",
              "      <td>0</td>\n",
              "      <td>1</td>\n",
              "      <td>0</td>\n",
              "    </tr>\n",
              "    <tr>\n",
              "      <th>3</th>\n",
              "      <td>6</td>\n",
              "      <td>1579</td>\n",
              "      <td>42</td>\n",
              "      <td>2.0</td>\n",
              "      <td>1494.0</td>\n",
              "      <td>3</td>\n",
              "      <td>388</td>\n",
              "      <td>927.72</td>\n",
              "      <td>1401.72</td>\n",
              "      <td>1643.31</td>\n",
              "      <td>1871.12</td>\n",
              "      <td>0.33</td>\n",
              "      <td>714.61</td>\n",
              "      <td>588.62</td>\n",
              "      <td>1538.06</td>\n",
              "      <td>1157.15</td>\n",
              "      <td>1677.16</td>\n",
              "      <td>1</td>\n",
              "      <td>307</td>\n",
              "      <td>11</td>\n",
              "      <td>6</td>\n",
              "      <td>1</td>\n",
              "      <td>0</td>\n",
              "      <td>0</td>\n",
              "      <td>1</td>\n",
              "      <td>0</td>\n",
              "    </tr>\n",
              "    <tr>\n",
              "      <th>4</th>\n",
              "      <td>7</td>\n",
              "      <td>1923</td>\n",
              "      <td>42</td>\n",
              "      <td>0.0</td>\n",
              "      <td>1096.0</td>\n",
              "      <td>2</td>\n",
              "      <td>1666</td>\n",
              "      <td>15202.20</td>\n",
              "      <td>16059.34</td>\n",
              "      <td>15211.29</td>\n",
              "      <td>13798.82</td>\n",
              "      <td>0.36</td>\n",
              "      <td>0.36</td>\n",
              "      <td>857.50</td>\n",
              "      <td>286.07</td>\n",
              "      <td>15719.44</td>\n",
              "      <td>15349.75</td>\n",
              "      <td>0</td>\n",
              "      <td>305</td>\n",
              "      <td>11</td>\n",
              "      <td>4</td>\n",
              "      <td>0</td>\n",
              "      <td>0</td>\n",
              "      <td>0</td>\n",
              "      <td>1</td>\n",
              "      <td>0</td>\n",
              "    </tr>\n",
              "    <tr>\n",
              "      <th>5</th>\n",
              "      <td>8</td>\n",
              "      <td>2048</td>\n",
              "      <td>72</td>\n",
              "      <td>0.0</td>\n",
              "      <td>1020.0</td>\n",
              "      <td>1</td>\n",
              "      <td>1</td>\n",
              "      <td>7006.93</td>\n",
              "      <td>7714.19</td>\n",
              "      <td>7859.74</td>\n",
              "      <td>11232.37</td>\n",
              "      <td>0.64</td>\n",
              "      <td>0.64</td>\n",
              "      <td>1299.64</td>\n",
              "      <td>439.26</td>\n",
              "      <td>7076.06</td>\n",
              "      <td>7755.98</td>\n",
              "      <td>0</td>\n",
              "      <td>267</td>\n",
              "      <td>9</td>\n",
              "      <td>1</td>\n",
              "      <td>1</td>\n",
              "      <td>1</td>\n",
              "      <td>0</td>\n",
              "      <td>0</td>\n",
              "      <td>0</td>\n",
              "    </tr>\n",
              "    <tr>\n",
              "      <th>6</th>\n",
              "      <td>9</td>\n",
              "      <td>2009</td>\n",
              "      <td>46</td>\n",
              "      <td>0.0</td>\n",
              "      <td>623.0</td>\n",
              "      <td>2</td>\n",
              "      <td>317</td>\n",
              "      <td>10096.58</td>\n",
              "      <td>8519.53</td>\n",
              "      <td>6511.82</td>\n",
              "      <td>16314.17</td>\n",
              "      <td>0.27</td>\n",
              "      <td>0.27</td>\n",
              "      <td>443.13</td>\n",
              "      <td>5688.44</td>\n",
              "      <td>8563.84</td>\n",
              "      <td>5317.04</td>\n",
              "      <td>0</td>\n",
              "      <td>193</td>\n",
              "      <td>7</td>\n",
              "      <td>4</td>\n",
              "      <td>1</td>\n",
              "      <td>0</td>\n",
              "      <td>0</td>\n",
              "      <td>1</td>\n",
              "      <td>0</td>\n",
              "    </tr>\n",
              "  </tbody>\n",
              "</table>\n",
              "</div>"
            ],
            "text/plain": [
              "   customer_id  vintage  age  dependents    city  customer_nw_category  \\\n",
              "0            1     2101   66         0.0   187.0                     2   \n",
              "3            6     1579   42         2.0  1494.0                     3   \n",
              "4            7     1923   42         0.0  1096.0                     2   \n",
              "5            8     2048   72         0.0  1020.0                     1   \n",
              "6            9     2009   46         0.0   623.0                     2   \n",
              "\n",
              "   branch_code  current_balance  previous_month_end_balance  \\\n",
              "0          755          1458.71                     1458.71   \n",
              "3          388           927.72                     1401.72   \n",
              "4         1666         15202.20                    16059.34   \n",
              "5            1          7006.93                     7714.19   \n",
              "6          317         10096.58                     8519.53   \n",
              "\n",
              "   average_monthly_balance_prevQ  average_monthly_balance_prevQ2  \\\n",
              "0                        1458.71                         1449.07   \n",
              "3                        1643.31                         1871.12   \n",
              "4                       15211.29                        13798.82   \n",
              "5                        7859.74                        11232.37   \n",
              "6                        6511.82                        16314.17   \n",
              "\n",
              "   current_month_credit  previous_month_credit  current_month_debit  \\\n",
              "0                  0.20                   0.20                 0.20   \n",
              "3                  0.33                 714.61               588.62   \n",
              "4                  0.36                   0.36               857.50   \n",
              "5                  0.64                   0.64              1299.64   \n",
              "6                  0.27                   0.27               443.13   \n",
              "\n",
              "   previous_month_debit  current_month_balance  previous_month_balance  churn  \\\n",
              "0                  0.20                1458.71                 1458.71      0   \n",
              "3               1538.06                1157.15                 1677.16      1   \n",
              "4                286.07               15719.44                15349.75      0   \n",
              "5                439.26                7076.06                 7755.98      0   \n",
              "6               5688.44                8563.84                 5317.04      0   \n",
              "\n",
              "   doy_ls_tran  moy_ls_tran  dow_ls_tran  gender_Male  occupation_retired  \\\n",
              "0          141            5            1            1                   0   \n",
              "3          307           11            6            1                   0   \n",
              "4          305           11            4            0                   0   \n",
              "5          267            9            1            1                   1   \n",
              "6          193            7            4            1                   0   \n",
              "\n",
              "   occupation_salaried  occupation_self_employed  occupation_student  \n",
              "0                    0                         1                   0  \n",
              "3                    0                         1                   0  \n",
              "4                    0                         1                   0  \n",
              "5                    0                         0                   0  \n",
              "6                    0                         1                   0  "
            ]
          },
          "execution_count": 25,
          "metadata": {},
          "output_type": "execute_result"
        }
      ],
      "source": [
        "data = pd.get_dummies(data, drop_first=True, dtype=int)\n",
        "data.head()"
      ]
    },
    {
      "cell_type": "code",
      "execution_count": 26,
      "id": "b0a985ab",
      "metadata": {
        "colab": {
          "base_uri": "https://localhost:8080/",
          "height": 226
        },
        "id": "b0a985ab",
        "outputId": "b5b69db7-bd9a-4f45-837c-b7b33ef379c5"
      },
      "outputs": [
        {
          "data": {
            "text/html": [
              "<div>\n",
              "<style scoped>\n",
              "    .dataframe tbody tr th:only-of-type {\n",
              "        vertical-align: middle;\n",
              "    }\n",
              "\n",
              "    .dataframe tbody tr th {\n",
              "        vertical-align: top;\n",
              "    }\n",
              "\n",
              "    .dataframe thead th {\n",
              "        text-align: right;\n",
              "    }\n",
              "</style>\n",
              "<table border=\"1\" class=\"dataframe\">\n",
              "  <thead>\n",
              "    <tr style=\"text-align: right;\">\n",
              "      <th></th>\n",
              "      <th>customer_id</th>\n",
              "      <th>vintage</th>\n",
              "      <th>age</th>\n",
              "      <th>dependents</th>\n",
              "      <th>city</th>\n",
              "      <th>customer_nw_category</th>\n",
              "      <th>branch_code</th>\n",
              "      <th>current_balance</th>\n",
              "      <th>previous_month_end_balance</th>\n",
              "      <th>average_monthly_balance_prevQ</th>\n",
              "      <th>average_monthly_balance_prevQ2</th>\n",
              "      <th>current_month_credit</th>\n",
              "      <th>previous_month_credit</th>\n",
              "      <th>current_month_debit</th>\n",
              "      <th>previous_month_debit</th>\n",
              "      <th>current_month_balance</th>\n",
              "      <th>previous_month_balance</th>\n",
              "      <th>churn</th>\n",
              "      <th>doy_ls_tran</th>\n",
              "      <th>moy_ls_tran</th>\n",
              "      <th>dow_ls_tran</th>\n",
              "      <th>gender</th>\n",
              "      <th>occupation_retired</th>\n",
              "      <th>occupation_salaried</th>\n",
              "      <th>occupation_self_employed</th>\n",
              "      <th>occupation_student</th>\n",
              "    </tr>\n",
              "  </thead>\n",
              "  <tbody>\n",
              "    <tr>\n",
              "      <th>0</th>\n",
              "      <td>1</td>\n",
              "      <td>2101</td>\n",
              "      <td>66</td>\n",
              "      <td>0.0</td>\n",
              "      <td>187.0</td>\n",
              "      <td>2</td>\n",
              "      <td>755</td>\n",
              "      <td>1458.71</td>\n",
              "      <td>1458.71</td>\n",
              "      <td>1458.71</td>\n",
              "      <td>1449.07</td>\n",
              "      <td>0.20</td>\n",
              "      <td>0.20</td>\n",
              "      <td>0.20</td>\n",
              "      <td>0.20</td>\n",
              "      <td>1458.71</td>\n",
              "      <td>1458.71</td>\n",
              "      <td>0</td>\n",
              "      <td>141</td>\n",
              "      <td>5</td>\n",
              "      <td>1</td>\n",
              "      <td>1</td>\n",
              "      <td>0</td>\n",
              "      <td>0</td>\n",
              "      <td>1</td>\n",
              "      <td>0</td>\n",
              "    </tr>\n",
              "    <tr>\n",
              "      <th>3</th>\n",
              "      <td>6</td>\n",
              "      <td>1579</td>\n",
              "      <td>42</td>\n",
              "      <td>2.0</td>\n",
              "      <td>1494.0</td>\n",
              "      <td>3</td>\n",
              "      <td>388</td>\n",
              "      <td>927.72</td>\n",
              "      <td>1401.72</td>\n",
              "      <td>1643.31</td>\n",
              "      <td>1871.12</td>\n",
              "      <td>0.33</td>\n",
              "      <td>714.61</td>\n",
              "      <td>588.62</td>\n",
              "      <td>1538.06</td>\n",
              "      <td>1157.15</td>\n",
              "      <td>1677.16</td>\n",
              "      <td>1</td>\n",
              "      <td>307</td>\n",
              "      <td>11</td>\n",
              "      <td>6</td>\n",
              "      <td>1</td>\n",
              "      <td>0</td>\n",
              "      <td>0</td>\n",
              "      <td>1</td>\n",
              "      <td>0</td>\n",
              "    </tr>\n",
              "    <tr>\n",
              "      <th>4</th>\n",
              "      <td>7</td>\n",
              "      <td>1923</td>\n",
              "      <td>42</td>\n",
              "      <td>0.0</td>\n",
              "      <td>1096.0</td>\n",
              "      <td>2</td>\n",
              "      <td>1666</td>\n",
              "      <td>15202.20</td>\n",
              "      <td>16059.34</td>\n",
              "      <td>15211.29</td>\n",
              "      <td>13798.82</td>\n",
              "      <td>0.36</td>\n",
              "      <td>0.36</td>\n",
              "      <td>857.50</td>\n",
              "      <td>286.07</td>\n",
              "      <td>15719.44</td>\n",
              "      <td>15349.75</td>\n",
              "      <td>0</td>\n",
              "      <td>305</td>\n",
              "      <td>11</td>\n",
              "      <td>4</td>\n",
              "      <td>0</td>\n",
              "      <td>0</td>\n",
              "      <td>0</td>\n",
              "      <td>1</td>\n",
              "      <td>0</td>\n",
              "    </tr>\n",
              "    <tr>\n",
              "      <th>5</th>\n",
              "      <td>8</td>\n",
              "      <td>2048</td>\n",
              "      <td>72</td>\n",
              "      <td>0.0</td>\n",
              "      <td>1020.0</td>\n",
              "      <td>1</td>\n",
              "      <td>1</td>\n",
              "      <td>7006.93</td>\n",
              "      <td>7714.19</td>\n",
              "      <td>7859.74</td>\n",
              "      <td>11232.37</td>\n",
              "      <td>0.64</td>\n",
              "      <td>0.64</td>\n",
              "      <td>1299.64</td>\n",
              "      <td>439.26</td>\n",
              "      <td>7076.06</td>\n",
              "      <td>7755.98</td>\n",
              "      <td>0</td>\n",
              "      <td>267</td>\n",
              "      <td>9</td>\n",
              "      <td>1</td>\n",
              "      <td>1</td>\n",
              "      <td>1</td>\n",
              "      <td>0</td>\n",
              "      <td>0</td>\n",
              "      <td>0</td>\n",
              "    </tr>\n",
              "    <tr>\n",
              "      <th>6</th>\n",
              "      <td>9</td>\n",
              "      <td>2009</td>\n",
              "      <td>46</td>\n",
              "      <td>0.0</td>\n",
              "      <td>623.0</td>\n",
              "      <td>2</td>\n",
              "      <td>317</td>\n",
              "      <td>10096.58</td>\n",
              "      <td>8519.53</td>\n",
              "      <td>6511.82</td>\n",
              "      <td>16314.17</td>\n",
              "      <td>0.27</td>\n",
              "      <td>0.27</td>\n",
              "      <td>443.13</td>\n",
              "      <td>5688.44</td>\n",
              "      <td>8563.84</td>\n",
              "      <td>5317.04</td>\n",
              "      <td>0</td>\n",
              "      <td>193</td>\n",
              "      <td>7</td>\n",
              "      <td>4</td>\n",
              "      <td>1</td>\n",
              "      <td>0</td>\n",
              "      <td>0</td>\n",
              "      <td>1</td>\n",
              "      <td>0</td>\n",
              "    </tr>\n",
              "  </tbody>\n",
              "</table>\n",
              "</div>"
            ],
            "text/plain": [
              "   customer_id  vintage  age  dependents    city  customer_nw_category  \\\n",
              "0            1     2101   66         0.0   187.0                     2   \n",
              "3            6     1579   42         2.0  1494.0                     3   \n",
              "4            7     1923   42         0.0  1096.0                     2   \n",
              "5            8     2048   72         0.0  1020.0                     1   \n",
              "6            9     2009   46         0.0   623.0                     2   \n",
              "\n",
              "   branch_code  current_balance  previous_month_end_balance  \\\n",
              "0          755          1458.71                     1458.71   \n",
              "3          388           927.72                     1401.72   \n",
              "4         1666         15202.20                    16059.34   \n",
              "5            1          7006.93                     7714.19   \n",
              "6          317         10096.58                     8519.53   \n",
              "\n",
              "   average_monthly_balance_prevQ  average_monthly_balance_prevQ2  \\\n",
              "0                        1458.71                         1449.07   \n",
              "3                        1643.31                         1871.12   \n",
              "4                       15211.29                        13798.82   \n",
              "5                        7859.74                        11232.37   \n",
              "6                        6511.82                        16314.17   \n",
              "\n",
              "   current_month_credit  previous_month_credit  current_month_debit  \\\n",
              "0                  0.20                   0.20                 0.20   \n",
              "3                  0.33                 714.61               588.62   \n",
              "4                  0.36                   0.36               857.50   \n",
              "5                  0.64                   0.64              1299.64   \n",
              "6                  0.27                   0.27               443.13   \n",
              "\n",
              "   previous_month_debit  current_month_balance  previous_month_balance  churn  \\\n",
              "0                  0.20                1458.71                 1458.71      0   \n",
              "3               1538.06                1157.15                 1677.16      1   \n",
              "4                286.07               15719.44                15349.75      0   \n",
              "5                439.26                7076.06                 7755.98      0   \n",
              "6               5688.44                8563.84                 5317.04      0   \n",
              "\n",
              "   doy_ls_tran  moy_ls_tran  dow_ls_tran  gender  occupation_retired  \\\n",
              "0          141            5            1       1                   0   \n",
              "3          307           11            6       1                   0   \n",
              "4          305           11            4       0                   0   \n",
              "5          267            9            1       1                   1   \n",
              "6          193            7            4       1                   0   \n",
              "\n",
              "   occupation_salaried  occupation_self_employed  occupation_student  \n",
              "0                    0                         1                   0  \n",
              "3                    0                         1                   0  \n",
              "4                    0                         1                   0  \n",
              "5                    0                         0                   0  \n",
              "6                    0                         1                   0  "
            ]
          },
          "execution_count": 26,
          "metadata": {},
          "output_type": "execute_result"
        }
      ],
      "source": [
        "data.rename(columns={'gender_Male': 'gender'}, inplace=True)\n",
        "data.head()"
      ]
    },
    {
      "cell_type": "code",
      "execution_count": 27,
      "id": "34bfda36",
      "metadata": {
        "id": "34bfda36"
      },
      "outputs": [],
      "source": [
        "data = data.drop([\"customer_id\"], axis = 1)"
      ]
    },
    {
      "cell_type": "markdown",
      "id": "c45c6271",
      "metadata": {
        "id": "c45c6271"
      },
      "source": [
        "The customer_id variable here can be omitted because it is a unique identifier for each entity in the dataset."
      ]
    },
    {
      "cell_type": "markdown",
      "id": "67315d76",
      "metadata": {
        "id": "67315d76"
      },
      "source": [
        "### Train Test Split"
      ]
    },
    {
      "cell_type": "code",
      "execution_count": 28,
      "id": "31be103d",
      "metadata": {
        "id": "31be103d"
      },
      "outputs": [],
      "source": [
        "from sklearn.model_selection import train_test_split\n",
        "train, test = train_test_split(data, test_size = 0.2, random_state=42)"
      ]
    },
    {
      "cell_type": "code",
      "execution_count": 29,
      "id": "gntEC8Kyohth",
      "metadata": {
        "colab": {
          "base_uri": "https://localhost:8080/",
          "height": 226
        },
        "id": "gntEC8Kyohth",
        "outputId": "dc6f6613-027b-494d-ed8a-89dee77386c6"
      },
      "outputs": [
        {
          "data": {
            "text/html": [
              "<div>\n",
              "<style scoped>\n",
              "    .dataframe tbody tr th:only-of-type {\n",
              "        vertical-align: middle;\n",
              "    }\n",
              "\n",
              "    .dataframe tbody tr th {\n",
              "        vertical-align: top;\n",
              "    }\n",
              "\n",
              "    .dataframe thead th {\n",
              "        text-align: right;\n",
              "    }\n",
              "</style>\n",
              "<table border=\"1\" class=\"dataframe\">\n",
              "  <thead>\n",
              "    <tr style=\"text-align: right;\">\n",
              "      <th></th>\n",
              "      <th>vintage</th>\n",
              "      <th>age</th>\n",
              "      <th>dependents</th>\n",
              "      <th>city</th>\n",
              "      <th>customer_nw_category</th>\n",
              "      <th>branch_code</th>\n",
              "      <th>current_balance</th>\n",
              "      <th>previous_month_end_balance</th>\n",
              "      <th>average_monthly_balance_prevQ</th>\n",
              "      <th>average_monthly_balance_prevQ2</th>\n",
              "      <th>current_month_credit</th>\n",
              "      <th>previous_month_credit</th>\n",
              "      <th>current_month_debit</th>\n",
              "      <th>previous_month_debit</th>\n",
              "      <th>current_month_balance</th>\n",
              "      <th>previous_month_balance</th>\n",
              "      <th>churn</th>\n",
              "      <th>doy_ls_tran</th>\n",
              "      <th>moy_ls_tran</th>\n",
              "      <th>dow_ls_tran</th>\n",
              "      <th>gender</th>\n",
              "      <th>occupation_retired</th>\n",
              "      <th>occupation_salaried</th>\n",
              "      <th>occupation_self_employed</th>\n",
              "      <th>occupation_student</th>\n",
              "    </tr>\n",
              "  </thead>\n",
              "  <tbody>\n",
              "    <tr>\n",
              "      <th>13548</th>\n",
              "      <td>2165</td>\n",
              "      <td>21</td>\n",
              "      <td>0.0</td>\n",
              "      <td>1020.0</td>\n",
              "      <td>1</td>\n",
              "      <td>13</td>\n",
              "      <td>1221.42</td>\n",
              "      <td>1309.32</td>\n",
              "      <td>4459.98</td>\n",
              "      <td>1089.54</td>\n",
              "      <td>63.19</td>\n",
              "      <td>33.91</td>\n",
              "      <td>298.23</td>\n",
              "      <td>8056.13</td>\n",
              "      <td>1241.82</td>\n",
              "      <td>4814.67</td>\n",
              "      <td>1</td>\n",
              "      <td>354</td>\n",
              "      <td>12</td>\n",
              "      <td>4</td>\n",
              "      <td>1</td>\n",
              "      <td>0</td>\n",
              "      <td>0</td>\n",
              "      <td>0</td>\n",
              "      <td>1</td>\n",
              "    </tr>\n",
              "    <tr>\n",
              "      <th>8277</th>\n",
              "      <td>2243</td>\n",
              "      <td>34</td>\n",
              "      <td>0.0</td>\n",
              "      <td>1565.0</td>\n",
              "      <td>2</td>\n",
              "      <td>4394</td>\n",
              "      <td>7190.29</td>\n",
              "      <td>7394.44</td>\n",
              "      <td>7373.64</td>\n",
              "      <td>5256.13</td>\n",
              "      <td>0.20</td>\n",
              "      <td>0.20</td>\n",
              "      <td>9.36</td>\n",
              "      <td>0.20</td>\n",
              "      <td>7332.03</td>\n",
              "      <td>7394.44</td>\n",
              "      <td>0</td>\n",
              "      <td>215</td>\n",
              "      <td>8</td>\n",
              "      <td>5</td>\n",
              "      <td>0</td>\n",
              "      <td>0</td>\n",
              "      <td>0</td>\n",
              "      <td>1</td>\n",
              "      <td>0</td>\n",
              "    </tr>\n",
              "    <tr>\n",
              "      <th>16578</th>\n",
              "      <td>1949</td>\n",
              "      <td>52</td>\n",
              "      <td>0.0</td>\n",
              "      <td>578.0</td>\n",
              "      <td>3</td>\n",
              "      <td>758</td>\n",
              "      <td>2291.57</td>\n",
              "      <td>442.64</td>\n",
              "      <td>2172.26</td>\n",
              "      <td>3418.31</td>\n",
              "      <td>1848.96</td>\n",
              "      <td>0.03</td>\n",
              "      <td>0.03</td>\n",
              "      <td>0.03</td>\n",
              "      <td>1717.77</td>\n",
              "      <td>1274.70</td>\n",
              "      <td>0</td>\n",
              "      <td>346</td>\n",
              "      <td>12</td>\n",
              "      <td>3</td>\n",
              "      <td>0</td>\n",
              "      <td>0</td>\n",
              "      <td>1</td>\n",
              "      <td>0</td>\n",
              "      <td>0</td>\n",
              "    </tr>\n",
              "    <tr>\n",
              "      <th>11614</th>\n",
              "      <td>2012</td>\n",
              "      <td>49</td>\n",
              "      <td>2.0</td>\n",
              "      <td>834.0</td>\n",
              "      <td>1</td>\n",
              "      <td>382</td>\n",
              "      <td>2635.57</td>\n",
              "      <td>4611.47</td>\n",
              "      <td>1840.85</td>\n",
              "      <td>1560.48</td>\n",
              "      <td>0.30</td>\n",
              "      <td>3774.02</td>\n",
              "      <td>1976.20</td>\n",
              "      <td>17.44</td>\n",
              "      <td>3113.11</td>\n",
              "      <td>1296.31</td>\n",
              "      <td>0</td>\n",
              "      <td>334</td>\n",
              "      <td>11</td>\n",
              "      <td>5</td>\n",
              "      <td>1</td>\n",
              "      <td>0</td>\n",
              "      <td>1</td>\n",
              "      <td>0</td>\n",
              "      <td>0</td>\n",
              "    </tr>\n",
              "    <tr>\n",
              "      <th>17975</th>\n",
              "      <td>1830</td>\n",
              "      <td>28</td>\n",
              "      <td>0.0</td>\n",
              "      <td>409.0</td>\n",
              "      <td>2</td>\n",
              "      <td>2074</td>\n",
              "      <td>2610.74</td>\n",
              "      <td>2610.74</td>\n",
              "      <td>2240.54</td>\n",
              "      <td>1272.60</td>\n",
              "      <td>0.51</td>\n",
              "      <td>0.51</td>\n",
              "      <td>0.51</td>\n",
              "      <td>0.51</td>\n",
              "      <td>2610.74</td>\n",
              "      <td>2449.45</td>\n",
              "      <td>0</td>\n",
              "      <td>222</td>\n",
              "      <td>8</td>\n",
              "      <td>5</td>\n",
              "      <td>0</td>\n",
              "      <td>0</td>\n",
              "      <td>0</td>\n",
              "      <td>1</td>\n",
              "      <td>0</td>\n",
              "    </tr>\n",
              "  </tbody>\n",
              "</table>\n",
              "</div>"
            ],
            "text/plain": [
              "       vintage  age  dependents    city  customer_nw_category  branch_code  \\\n",
              "13548     2165   21         0.0  1020.0                     1           13   \n",
              "8277      2243   34         0.0  1565.0                     2         4394   \n",
              "16578     1949   52         0.0   578.0                     3          758   \n",
              "11614     2012   49         2.0   834.0                     1          382   \n",
              "17975     1830   28         0.0   409.0                     2         2074   \n",
              "\n",
              "       current_balance  previous_month_end_balance  \\\n",
              "13548          1221.42                     1309.32   \n",
              "8277           7190.29                     7394.44   \n",
              "16578          2291.57                      442.64   \n",
              "11614          2635.57                     4611.47   \n",
              "17975          2610.74                     2610.74   \n",
              "\n",
              "       average_monthly_balance_prevQ  average_monthly_balance_prevQ2  \\\n",
              "13548                        4459.98                         1089.54   \n",
              "8277                         7373.64                         5256.13   \n",
              "16578                        2172.26                         3418.31   \n",
              "11614                        1840.85                         1560.48   \n",
              "17975                        2240.54                         1272.60   \n",
              "\n",
              "       current_month_credit  previous_month_credit  current_month_debit  \\\n",
              "13548                 63.19                  33.91               298.23   \n",
              "8277                   0.20                   0.20                 9.36   \n",
              "16578               1848.96                   0.03                 0.03   \n",
              "11614                  0.30                3774.02              1976.20   \n",
              "17975                  0.51                   0.51                 0.51   \n",
              "\n",
              "       previous_month_debit  current_month_balance  previous_month_balance  \\\n",
              "13548               8056.13                1241.82                 4814.67   \n",
              "8277                   0.20                7332.03                 7394.44   \n",
              "16578                  0.03                1717.77                 1274.70   \n",
              "11614                 17.44                3113.11                 1296.31   \n",
              "17975                  0.51                2610.74                 2449.45   \n",
              "\n",
              "       churn  doy_ls_tran  moy_ls_tran  dow_ls_tran  gender  \\\n",
              "13548      1          354           12            4       1   \n",
              "8277       0          215            8            5       0   \n",
              "16578      0          346           12            3       0   \n",
              "11614      0          334           11            5       1   \n",
              "17975      0          222            8            5       0   \n",
              "\n",
              "       occupation_retired  occupation_salaried  occupation_self_employed  \\\n",
              "13548                   0                    0                         0   \n",
              "8277                    0                    0                         1   \n",
              "16578                   0                    1                         0   \n",
              "11614                   0                    1                         0   \n",
              "17975                   0                    0                         1   \n",
              "\n",
              "       occupation_student  \n",
              "13548                   1  \n",
              "8277                    0  \n",
              "16578                   0  \n",
              "11614                   0  \n",
              "17975                   0  "
            ]
          },
          "execution_count": 29,
          "metadata": {},
          "output_type": "execute_result"
        }
      ],
      "source": [
        "test.head()"
      ]
    },
    {
      "cell_type": "code",
      "execution_count": 30,
      "id": "b377cd98",
      "metadata": {
        "id": "b377cd98"
      },
      "outputs": [],
      "source": [
        "X_train = train.drop(columns=['churn'])\n",
        "y_train = train['churn']\n",
        "\n",
        "X_test = test.drop(columns=['churn'])\n",
        "y_test = test['churn']"
      ]
    },
    {
      "cell_type": "markdown",
      "id": "29fa7ec1",
      "metadata": {
        "id": "29fa7ec1"
      },
      "source": [
        "## Defining Models\n",
        "Here I use 4 models, namely:\n",
        "1. Logistic Regression\n",
        "2. KNN\n",
        "3. Decision Tree\n",
        "4. SVM"
      ]
    },
    {
      "cell_type": "code",
      "execution_count": 31,
      "id": "47a2fe1b",
      "metadata": {
        "colab": {
          "base_uri": "https://localhost:8080/",
          "height": 178
        },
        "id": "47a2fe1b",
        "outputId": "a6a7d10a-6e9d-4fd1-fefe-2c5037b0c9d8"
      },
      "outputs": [
        {
          "data": {
            "text/plain": [
              "0    0.807172\n",
              "1    0.192828\n",
              "Name: churn, dtype: float64"
            ]
          },
          "execution_count": 31,
          "metadata": {},
          "output_type": "execute_result"
        }
      ],
      "source": [
        "y_train.value_counts(normalize=True)"
      ]
    },
    {
      "cell_type": "markdown",
      "id": "8c86f0d3",
      "metadata": {
        "id": "8c86f0d3"
      },
      "source": [
        "### Logistic Regression"
      ]
    },
    {
      "cell_type": "code",
      "execution_count": 32,
      "id": "56560335",
      "metadata": {
        "id": "56560335"
      },
      "outputs": [],
      "source": [
        "logistic_model = LogisticRegression(\n",
        "    random_state = 42,\n",
        "    class_weight = {0: 0.192828, 1:0.807172}\n",
        ")"
      ]
    },
    {
      "cell_type": "markdown",
      "id": "7e715964",
      "metadata": {
        "id": "7e715964"
      },
      "source": [
        "### KNN"
      ]
    },
    {
      "cell_type": "code",
      "execution_count": 33,
      "id": "5715dbc5",
      "metadata": {
        "id": "5715dbc5"
      },
      "outputs": [],
      "source": [
        "knn_clf = KNeighborsClassifier()"
      ]
    },
    {
      "cell_type": "markdown",
      "id": "8efaba73",
      "metadata": {
        "id": "8efaba73"
      },
      "source": [
        "### Decision Tree"
      ]
    },
    {
      "cell_type": "code",
      "execution_count": 34,
      "id": "1064ae0a",
      "metadata": {
        "id": "1064ae0a"
      },
      "outputs": [],
      "source": [
        "dt_clf = DecisionTreeClassifier(\n",
        "    random_state = 42,\n",
        "    class_weight = {0: 0.192828, 1:0.807172}\n",
        ")"
      ]
    },
    {
      "cell_type": "markdown",
      "id": "fcca05d3",
      "metadata": {
        "id": "fcca05d3"
      },
      "source": [
        "### SVM"
      ]
    },
    {
      "cell_type": "code",
      "execution_count": 35,
      "id": "5476c709",
      "metadata": {
        "id": "5476c709"
      },
      "outputs": [],
      "source": [
        "svm_clf = SVC(\n",
        "    random_state = 42,\n",
        "    probability=True,\n",
        "    class_weight = {0: 0.192828, 1:0.807172}\n",
        ")"
      ]
    },
    {
      "cell_type": "markdown",
      "id": "dfc31bbf",
      "metadata": {
        "id": "dfc31bbf"
      },
      "source": [
        "## Fitting Model to Data"
      ]
    },
    {
      "cell_type": "markdown",
      "id": "7188fd97",
      "metadata": {
        "id": "7188fd97"
      },
      "source": [
        "### Logistic Regression"
      ]
    },
    {
      "cell_type": "code",
      "execution_count": 36,
      "id": "3ae7b620",
      "metadata": {
        "colab": {
          "base_uri": "https://localhost:8080/",
          "height": 240
        },
        "id": "3ae7b620",
        "outputId": "7e953483-5df9-47b9-fc7d-5f471388edfc"
      },
      "outputs": [
        {
          "name": "stderr",
          "output_type": "stream",
          "text": [
            "c:\\Users\\M S I\\AppData\\Local\\Programs\\Python\\Python38\\lib\\site-packages\\sklearn\\linear_model\\_logistic.py:460: ConvergenceWarning: lbfgs failed to converge (status=1):\n",
            "STOP: TOTAL NO. of ITERATIONS REACHED LIMIT.\n",
            "\n",
            "Increase the number of iterations (max_iter) or scale the data as shown in:\n",
            "    https://scikit-learn.org/stable/modules/preprocessing.html\n",
            "Please also refer to the documentation for alternative solver options:\n",
            "    https://scikit-learn.org/stable/modules/linear_model.html#logistic-regression\n",
            "  n_iter_i = _check_optimize_result(\n"
          ]
        },
        {
          "data": {
            "text/html": [
              "<style>#sk-container-id-1 {color: black;}#sk-container-id-1 pre{padding: 0;}#sk-container-id-1 div.sk-toggleable {background-color: white;}#sk-container-id-1 label.sk-toggleable__label {cursor: pointer;display: block;width: 100%;margin-bottom: 0;padding: 0.3em;box-sizing: border-box;text-align: center;}#sk-container-id-1 label.sk-toggleable__label-arrow:before {content: \"▸\";float: left;margin-right: 0.25em;color: #696969;}#sk-container-id-1 label.sk-toggleable__label-arrow:hover:before {color: black;}#sk-container-id-1 div.sk-estimator:hover label.sk-toggleable__label-arrow:before {color: black;}#sk-container-id-1 div.sk-toggleable__content {max-height: 0;max-width: 0;overflow: hidden;text-align: left;background-color: #f0f8ff;}#sk-container-id-1 div.sk-toggleable__content pre {margin: 0.2em;color: black;border-radius: 0.25em;background-color: #f0f8ff;}#sk-container-id-1 input.sk-toggleable__control:checked~div.sk-toggleable__content {max-height: 200px;max-width: 100%;overflow: auto;}#sk-container-id-1 input.sk-toggleable__control:checked~label.sk-toggleable__label-arrow:before {content: \"▾\";}#sk-container-id-1 div.sk-estimator input.sk-toggleable__control:checked~label.sk-toggleable__label {background-color: #d4ebff;}#sk-container-id-1 div.sk-label input.sk-toggleable__control:checked~label.sk-toggleable__label {background-color: #d4ebff;}#sk-container-id-1 input.sk-hidden--visually {border: 0;clip: rect(1px 1px 1px 1px);clip: rect(1px, 1px, 1px, 1px);height: 1px;margin: -1px;overflow: hidden;padding: 0;position: absolute;width: 1px;}#sk-container-id-1 div.sk-estimator {font-family: monospace;background-color: #f0f8ff;border: 1px dotted black;border-radius: 0.25em;box-sizing: border-box;margin-bottom: 0.5em;}#sk-container-id-1 div.sk-estimator:hover {background-color: #d4ebff;}#sk-container-id-1 div.sk-parallel-item::after {content: \"\";width: 100%;border-bottom: 1px solid gray;flex-grow: 1;}#sk-container-id-1 div.sk-label:hover label.sk-toggleable__label {background-color: #d4ebff;}#sk-container-id-1 div.sk-serial::before {content: \"\";position: absolute;border-left: 1px solid gray;box-sizing: border-box;top: 0;bottom: 0;left: 50%;z-index: 0;}#sk-container-id-1 div.sk-serial {display: flex;flex-direction: column;align-items: center;background-color: white;padding-right: 0.2em;padding-left: 0.2em;position: relative;}#sk-container-id-1 div.sk-item {position: relative;z-index: 1;}#sk-container-id-1 div.sk-parallel {display: flex;align-items: stretch;justify-content: center;background-color: white;position: relative;}#sk-container-id-1 div.sk-item::before, #sk-container-id-1 div.sk-parallel-item::before {content: \"\";position: absolute;border-left: 1px solid gray;box-sizing: border-box;top: 0;bottom: 0;left: 50%;z-index: -1;}#sk-container-id-1 div.sk-parallel-item {display: flex;flex-direction: column;z-index: 1;position: relative;background-color: white;}#sk-container-id-1 div.sk-parallel-item:first-child::after {align-self: flex-end;width: 50%;}#sk-container-id-1 div.sk-parallel-item:last-child::after {align-self: flex-start;width: 50%;}#sk-container-id-1 div.sk-parallel-item:only-child::after {width: 0;}#sk-container-id-1 div.sk-dashed-wrapped {border: 1px dashed gray;margin: 0 0.4em 0.5em 0.4em;box-sizing: border-box;padding-bottom: 0.4em;background-color: white;}#sk-container-id-1 div.sk-label label {font-family: monospace;font-weight: bold;display: inline-block;line-height: 1.2em;}#sk-container-id-1 div.sk-label-container {text-align: center;}#sk-container-id-1 div.sk-container {/* jupyter's `normalize.less` sets `[hidden] { display: none; }` but bootstrap.min.css set `[hidden] { display: none !important; }` so we also need the `!important` here to be able to override the default hidden behavior on the sphinx rendered scikit-learn.org. See: https://github.com/scikit-learn/scikit-learn/issues/21755 */display: inline-block !important;position: relative;}#sk-container-id-1 div.sk-text-repr-fallback {display: none;}</style><div id=\"sk-container-id-1\" class=\"sk-top-container\"><div class=\"sk-text-repr-fallback\"><pre>LogisticRegression(class_weight={0: 0.192828, 1: 0.807172}, random_state=42)</pre><b>In a Jupyter environment, please rerun this cell to show the HTML representation or trust the notebook. <br />On GitHub, the HTML representation is unable to render, please try loading this page with nbviewer.org.</b></div><div class=\"sk-container\" hidden><div class=\"sk-item\"><div class=\"sk-estimator sk-toggleable\"><input class=\"sk-toggleable__control sk-hidden--visually\" id=\"sk-estimator-id-1\" type=\"checkbox\" checked><label for=\"sk-estimator-id-1\" class=\"sk-toggleable__label sk-toggleable__label-arrow\">LogisticRegression</label><div class=\"sk-toggleable__content\"><pre>LogisticRegression(class_weight={0: 0.192828, 1: 0.807172}, random_state=42)</pre></div></div></div></div></div>"
            ],
            "text/plain": [
              "LogisticRegression(class_weight={0: 0.192828, 1: 0.807172}, random_state=42)"
            ]
          },
          "execution_count": 36,
          "metadata": {},
          "output_type": "execute_result"
        }
      ],
      "source": [
        "logistic_model.fit(X_train, y_train)"
      ]
    },
    {
      "cell_type": "markdown",
      "id": "8ca52439",
      "metadata": {
        "id": "8ca52439"
      },
      "source": [
        "### KNN"
      ]
    },
    {
      "cell_type": "code",
      "execution_count": 37,
      "id": "d591a8af",
      "metadata": {
        "colab": {
          "base_uri": "https://localhost:8080/",
          "height": 74
        },
        "id": "d591a8af",
        "outputId": "7029ad85-e622-449b-e843-3c20cd11ebe9"
      },
      "outputs": [
        {
          "data": {
            "text/html": [
              "<style>#sk-container-id-2 {color: black;}#sk-container-id-2 pre{padding: 0;}#sk-container-id-2 div.sk-toggleable {background-color: white;}#sk-container-id-2 label.sk-toggleable__label {cursor: pointer;display: block;width: 100%;margin-bottom: 0;padding: 0.3em;box-sizing: border-box;text-align: center;}#sk-container-id-2 label.sk-toggleable__label-arrow:before {content: \"▸\";float: left;margin-right: 0.25em;color: #696969;}#sk-container-id-2 label.sk-toggleable__label-arrow:hover:before {color: black;}#sk-container-id-2 div.sk-estimator:hover label.sk-toggleable__label-arrow:before {color: black;}#sk-container-id-2 div.sk-toggleable__content {max-height: 0;max-width: 0;overflow: hidden;text-align: left;background-color: #f0f8ff;}#sk-container-id-2 div.sk-toggleable__content pre {margin: 0.2em;color: black;border-radius: 0.25em;background-color: #f0f8ff;}#sk-container-id-2 input.sk-toggleable__control:checked~div.sk-toggleable__content {max-height: 200px;max-width: 100%;overflow: auto;}#sk-container-id-2 input.sk-toggleable__control:checked~label.sk-toggleable__label-arrow:before {content: \"▾\";}#sk-container-id-2 div.sk-estimator input.sk-toggleable__control:checked~label.sk-toggleable__label {background-color: #d4ebff;}#sk-container-id-2 div.sk-label input.sk-toggleable__control:checked~label.sk-toggleable__label {background-color: #d4ebff;}#sk-container-id-2 input.sk-hidden--visually {border: 0;clip: rect(1px 1px 1px 1px);clip: rect(1px, 1px, 1px, 1px);height: 1px;margin: -1px;overflow: hidden;padding: 0;position: absolute;width: 1px;}#sk-container-id-2 div.sk-estimator {font-family: monospace;background-color: #f0f8ff;border: 1px dotted black;border-radius: 0.25em;box-sizing: border-box;margin-bottom: 0.5em;}#sk-container-id-2 div.sk-estimator:hover {background-color: #d4ebff;}#sk-container-id-2 div.sk-parallel-item::after {content: \"\";width: 100%;border-bottom: 1px solid gray;flex-grow: 1;}#sk-container-id-2 div.sk-label:hover label.sk-toggleable__label {background-color: #d4ebff;}#sk-container-id-2 div.sk-serial::before {content: \"\";position: absolute;border-left: 1px solid gray;box-sizing: border-box;top: 0;bottom: 0;left: 50%;z-index: 0;}#sk-container-id-2 div.sk-serial {display: flex;flex-direction: column;align-items: center;background-color: white;padding-right: 0.2em;padding-left: 0.2em;position: relative;}#sk-container-id-2 div.sk-item {position: relative;z-index: 1;}#sk-container-id-2 div.sk-parallel {display: flex;align-items: stretch;justify-content: center;background-color: white;position: relative;}#sk-container-id-2 div.sk-item::before, #sk-container-id-2 div.sk-parallel-item::before {content: \"\";position: absolute;border-left: 1px solid gray;box-sizing: border-box;top: 0;bottom: 0;left: 50%;z-index: -1;}#sk-container-id-2 div.sk-parallel-item {display: flex;flex-direction: column;z-index: 1;position: relative;background-color: white;}#sk-container-id-2 div.sk-parallel-item:first-child::after {align-self: flex-end;width: 50%;}#sk-container-id-2 div.sk-parallel-item:last-child::after {align-self: flex-start;width: 50%;}#sk-container-id-2 div.sk-parallel-item:only-child::after {width: 0;}#sk-container-id-2 div.sk-dashed-wrapped {border: 1px dashed gray;margin: 0 0.4em 0.5em 0.4em;box-sizing: border-box;padding-bottom: 0.4em;background-color: white;}#sk-container-id-2 div.sk-label label {font-family: monospace;font-weight: bold;display: inline-block;line-height: 1.2em;}#sk-container-id-2 div.sk-label-container {text-align: center;}#sk-container-id-2 div.sk-container {/* jupyter's `normalize.less` sets `[hidden] { display: none; }` but bootstrap.min.css set `[hidden] { display: none !important; }` so we also need the `!important` here to be able to override the default hidden behavior on the sphinx rendered scikit-learn.org. See: https://github.com/scikit-learn/scikit-learn/issues/21755 */display: inline-block !important;position: relative;}#sk-container-id-2 div.sk-text-repr-fallback {display: none;}</style><div id=\"sk-container-id-2\" class=\"sk-top-container\"><div class=\"sk-text-repr-fallback\"><pre>KNeighborsClassifier()</pre><b>In a Jupyter environment, please rerun this cell to show the HTML representation or trust the notebook. <br />On GitHub, the HTML representation is unable to render, please try loading this page with nbviewer.org.</b></div><div class=\"sk-container\" hidden><div class=\"sk-item\"><div class=\"sk-estimator sk-toggleable\"><input class=\"sk-toggleable__control sk-hidden--visually\" id=\"sk-estimator-id-2\" type=\"checkbox\" checked><label for=\"sk-estimator-id-2\" class=\"sk-toggleable__label sk-toggleable__label-arrow\">KNeighborsClassifier</label><div class=\"sk-toggleable__content\"><pre>KNeighborsClassifier()</pre></div></div></div></div></div>"
            ],
            "text/plain": [
              "KNeighborsClassifier()"
            ]
          },
          "execution_count": 37,
          "metadata": {},
          "output_type": "execute_result"
        }
      ],
      "source": [
        "knn_clf.fit(X_train, y_train)"
      ]
    },
    {
      "cell_type": "markdown",
      "id": "2cf986c2",
      "metadata": {
        "id": "2cf986c2"
      },
      "source": [
        "### Decision Tree"
      ]
    },
    {
      "cell_type": "code",
      "execution_count": 38,
      "id": "15c157d3",
      "metadata": {
        "colab": {
          "base_uri": "https://localhost:8080/",
          "height": 74
        },
        "id": "15c157d3",
        "outputId": "e8044954-a1fd-4bd0-ee49-45be179fdd2f"
      },
      "outputs": [
        {
          "data": {
            "text/html": [
              "<style>#sk-container-id-3 {color: black;}#sk-container-id-3 pre{padding: 0;}#sk-container-id-3 div.sk-toggleable {background-color: white;}#sk-container-id-3 label.sk-toggleable__label {cursor: pointer;display: block;width: 100%;margin-bottom: 0;padding: 0.3em;box-sizing: border-box;text-align: center;}#sk-container-id-3 label.sk-toggleable__label-arrow:before {content: \"▸\";float: left;margin-right: 0.25em;color: #696969;}#sk-container-id-3 label.sk-toggleable__label-arrow:hover:before {color: black;}#sk-container-id-3 div.sk-estimator:hover label.sk-toggleable__label-arrow:before {color: black;}#sk-container-id-3 div.sk-toggleable__content {max-height: 0;max-width: 0;overflow: hidden;text-align: left;background-color: #f0f8ff;}#sk-container-id-3 div.sk-toggleable__content pre {margin: 0.2em;color: black;border-radius: 0.25em;background-color: #f0f8ff;}#sk-container-id-3 input.sk-toggleable__control:checked~div.sk-toggleable__content {max-height: 200px;max-width: 100%;overflow: auto;}#sk-container-id-3 input.sk-toggleable__control:checked~label.sk-toggleable__label-arrow:before {content: \"▾\";}#sk-container-id-3 div.sk-estimator input.sk-toggleable__control:checked~label.sk-toggleable__label {background-color: #d4ebff;}#sk-container-id-3 div.sk-label input.sk-toggleable__control:checked~label.sk-toggleable__label {background-color: #d4ebff;}#sk-container-id-3 input.sk-hidden--visually {border: 0;clip: rect(1px 1px 1px 1px);clip: rect(1px, 1px, 1px, 1px);height: 1px;margin: -1px;overflow: hidden;padding: 0;position: absolute;width: 1px;}#sk-container-id-3 div.sk-estimator {font-family: monospace;background-color: #f0f8ff;border: 1px dotted black;border-radius: 0.25em;box-sizing: border-box;margin-bottom: 0.5em;}#sk-container-id-3 div.sk-estimator:hover {background-color: #d4ebff;}#sk-container-id-3 div.sk-parallel-item::after {content: \"\";width: 100%;border-bottom: 1px solid gray;flex-grow: 1;}#sk-container-id-3 div.sk-label:hover label.sk-toggleable__label {background-color: #d4ebff;}#sk-container-id-3 div.sk-serial::before {content: \"\";position: absolute;border-left: 1px solid gray;box-sizing: border-box;top: 0;bottom: 0;left: 50%;z-index: 0;}#sk-container-id-3 div.sk-serial {display: flex;flex-direction: column;align-items: center;background-color: white;padding-right: 0.2em;padding-left: 0.2em;position: relative;}#sk-container-id-3 div.sk-item {position: relative;z-index: 1;}#sk-container-id-3 div.sk-parallel {display: flex;align-items: stretch;justify-content: center;background-color: white;position: relative;}#sk-container-id-3 div.sk-item::before, #sk-container-id-3 div.sk-parallel-item::before {content: \"\";position: absolute;border-left: 1px solid gray;box-sizing: border-box;top: 0;bottom: 0;left: 50%;z-index: -1;}#sk-container-id-3 div.sk-parallel-item {display: flex;flex-direction: column;z-index: 1;position: relative;background-color: white;}#sk-container-id-3 div.sk-parallel-item:first-child::after {align-self: flex-end;width: 50%;}#sk-container-id-3 div.sk-parallel-item:last-child::after {align-self: flex-start;width: 50%;}#sk-container-id-3 div.sk-parallel-item:only-child::after {width: 0;}#sk-container-id-3 div.sk-dashed-wrapped {border: 1px dashed gray;margin: 0 0.4em 0.5em 0.4em;box-sizing: border-box;padding-bottom: 0.4em;background-color: white;}#sk-container-id-3 div.sk-label label {font-family: monospace;font-weight: bold;display: inline-block;line-height: 1.2em;}#sk-container-id-3 div.sk-label-container {text-align: center;}#sk-container-id-3 div.sk-container {/* jupyter's `normalize.less` sets `[hidden] { display: none; }` but bootstrap.min.css set `[hidden] { display: none !important; }` so we also need the `!important` here to be able to override the default hidden behavior on the sphinx rendered scikit-learn.org. See: https://github.com/scikit-learn/scikit-learn/issues/21755 */display: inline-block !important;position: relative;}#sk-container-id-3 div.sk-text-repr-fallback {display: none;}</style><div id=\"sk-container-id-3\" class=\"sk-top-container\"><div class=\"sk-text-repr-fallback\"><pre>DecisionTreeClassifier(class_weight={0: 0.192828, 1: 0.807172}, random_state=42)</pre><b>In a Jupyter environment, please rerun this cell to show the HTML representation or trust the notebook. <br />On GitHub, the HTML representation is unable to render, please try loading this page with nbviewer.org.</b></div><div class=\"sk-container\" hidden><div class=\"sk-item\"><div class=\"sk-estimator sk-toggleable\"><input class=\"sk-toggleable__control sk-hidden--visually\" id=\"sk-estimator-id-3\" type=\"checkbox\" checked><label for=\"sk-estimator-id-3\" class=\"sk-toggleable__label sk-toggleable__label-arrow\">DecisionTreeClassifier</label><div class=\"sk-toggleable__content\"><pre>DecisionTreeClassifier(class_weight={0: 0.192828, 1: 0.807172}, random_state=42)</pre></div></div></div></div></div>"
            ],
            "text/plain": [
              "DecisionTreeClassifier(class_weight={0: 0.192828, 1: 0.807172}, random_state=42)"
            ]
          },
          "execution_count": 38,
          "metadata": {},
          "output_type": "execute_result"
        }
      ],
      "source": [
        "dt_clf.fit(X_train, y_train)"
      ]
    },
    {
      "cell_type": "markdown",
      "id": "22c8f378",
      "metadata": {
        "id": "22c8f378"
      },
      "source": [
        "### SVM"
      ]
    },
    {
      "cell_type": "code",
      "execution_count": 39,
      "id": "b454fd78",
      "metadata": {
        "colab": {
          "base_uri": "https://localhost:8080/",
          "height": 74
        },
        "id": "b454fd78",
        "outputId": "88286993-e986-45f4-9e84-4e9d7010aa9d"
      },
      "outputs": [
        {
          "data": {
            "text/html": [
              "<style>#sk-container-id-4 {color: black;}#sk-container-id-4 pre{padding: 0;}#sk-container-id-4 div.sk-toggleable {background-color: white;}#sk-container-id-4 label.sk-toggleable__label {cursor: pointer;display: block;width: 100%;margin-bottom: 0;padding: 0.3em;box-sizing: border-box;text-align: center;}#sk-container-id-4 label.sk-toggleable__label-arrow:before {content: \"▸\";float: left;margin-right: 0.25em;color: #696969;}#sk-container-id-4 label.sk-toggleable__label-arrow:hover:before {color: black;}#sk-container-id-4 div.sk-estimator:hover label.sk-toggleable__label-arrow:before {color: black;}#sk-container-id-4 div.sk-toggleable__content {max-height: 0;max-width: 0;overflow: hidden;text-align: left;background-color: #f0f8ff;}#sk-container-id-4 div.sk-toggleable__content pre {margin: 0.2em;color: black;border-radius: 0.25em;background-color: #f0f8ff;}#sk-container-id-4 input.sk-toggleable__control:checked~div.sk-toggleable__content {max-height: 200px;max-width: 100%;overflow: auto;}#sk-container-id-4 input.sk-toggleable__control:checked~label.sk-toggleable__label-arrow:before {content: \"▾\";}#sk-container-id-4 div.sk-estimator input.sk-toggleable__control:checked~label.sk-toggleable__label {background-color: #d4ebff;}#sk-container-id-4 div.sk-label input.sk-toggleable__control:checked~label.sk-toggleable__label {background-color: #d4ebff;}#sk-container-id-4 input.sk-hidden--visually {border: 0;clip: rect(1px 1px 1px 1px);clip: rect(1px, 1px, 1px, 1px);height: 1px;margin: -1px;overflow: hidden;padding: 0;position: absolute;width: 1px;}#sk-container-id-4 div.sk-estimator {font-family: monospace;background-color: #f0f8ff;border: 1px dotted black;border-radius: 0.25em;box-sizing: border-box;margin-bottom: 0.5em;}#sk-container-id-4 div.sk-estimator:hover {background-color: #d4ebff;}#sk-container-id-4 div.sk-parallel-item::after {content: \"\";width: 100%;border-bottom: 1px solid gray;flex-grow: 1;}#sk-container-id-4 div.sk-label:hover label.sk-toggleable__label {background-color: #d4ebff;}#sk-container-id-4 div.sk-serial::before {content: \"\";position: absolute;border-left: 1px solid gray;box-sizing: border-box;top: 0;bottom: 0;left: 50%;z-index: 0;}#sk-container-id-4 div.sk-serial {display: flex;flex-direction: column;align-items: center;background-color: white;padding-right: 0.2em;padding-left: 0.2em;position: relative;}#sk-container-id-4 div.sk-item {position: relative;z-index: 1;}#sk-container-id-4 div.sk-parallel {display: flex;align-items: stretch;justify-content: center;background-color: white;position: relative;}#sk-container-id-4 div.sk-item::before, #sk-container-id-4 div.sk-parallel-item::before {content: \"\";position: absolute;border-left: 1px solid gray;box-sizing: border-box;top: 0;bottom: 0;left: 50%;z-index: -1;}#sk-container-id-4 div.sk-parallel-item {display: flex;flex-direction: column;z-index: 1;position: relative;background-color: white;}#sk-container-id-4 div.sk-parallel-item:first-child::after {align-self: flex-end;width: 50%;}#sk-container-id-4 div.sk-parallel-item:last-child::after {align-self: flex-start;width: 50%;}#sk-container-id-4 div.sk-parallel-item:only-child::after {width: 0;}#sk-container-id-4 div.sk-dashed-wrapped {border: 1px dashed gray;margin: 0 0.4em 0.5em 0.4em;box-sizing: border-box;padding-bottom: 0.4em;background-color: white;}#sk-container-id-4 div.sk-label label {font-family: monospace;font-weight: bold;display: inline-block;line-height: 1.2em;}#sk-container-id-4 div.sk-label-container {text-align: center;}#sk-container-id-4 div.sk-container {/* jupyter's `normalize.less` sets `[hidden] { display: none; }` but bootstrap.min.css set `[hidden] { display: none !important; }` so we also need the `!important` here to be able to override the default hidden behavior on the sphinx rendered scikit-learn.org. See: https://github.com/scikit-learn/scikit-learn/issues/21755 */display: inline-block !important;position: relative;}#sk-container-id-4 div.sk-text-repr-fallback {display: none;}</style><div id=\"sk-container-id-4\" class=\"sk-top-container\"><div class=\"sk-text-repr-fallback\"><pre>SVC(class_weight={0: 0.192828, 1: 0.807172}, probability=True, random_state=42)</pre><b>In a Jupyter environment, please rerun this cell to show the HTML representation or trust the notebook. <br />On GitHub, the HTML representation is unable to render, please try loading this page with nbviewer.org.</b></div><div class=\"sk-container\" hidden><div class=\"sk-item\"><div class=\"sk-estimator sk-toggleable\"><input class=\"sk-toggleable__control sk-hidden--visually\" id=\"sk-estimator-id-4\" type=\"checkbox\" checked><label for=\"sk-estimator-id-4\" class=\"sk-toggleable__label sk-toggleable__label-arrow\">SVC</label><div class=\"sk-toggleable__content\"><pre>SVC(class_weight={0: 0.192828, 1: 0.807172}, probability=True, random_state=42)</pre></div></div></div></div></div>"
            ],
            "text/plain": [
              "SVC(class_weight={0: 0.192828, 1: 0.807172}, probability=True, random_state=42)"
            ]
          },
          "execution_count": 39,
          "metadata": {},
          "output_type": "execute_result"
        }
      ],
      "source": [
        "svm_clf.fit(X_train, y_train)"
      ]
    },
    {
      "cell_type": "markdown",
      "id": "3e74a5a3",
      "metadata": {
        "id": "3e74a5a3"
      },
      "source": [
        "## Model Evaluation"
      ]
    },
    {
      "cell_type": "code",
      "execution_count": 40,
      "id": "ca2631cc",
      "metadata": {
        "id": "ca2631cc"
      },
      "outputs": [],
      "source": [
        "def evaluate(model, x_test = X_test, y_test = y_test, x_train=X_train, y_train=y_train):\n",
        "    y_pred_train = model.predict(x_train)\n",
        "    print('======= Data Train =======')\n",
        "    print('------')\n",
        "    print('Confusion Matrix Data Train:')\n",
        "    print()\n",
        "    print(classification_report(y_train, y_pred_train))\n",
        "    print('------')\n",
        "\n",
        "    tn, fp, fn, tp = confusion_matrix(y_train, y_pred_train).ravel()\n",
        "    print('Assuming 1 as positive, we get for Data Train:')\n",
        "    print('')\n",
        "    print('True Positive:', tp)\n",
        "    print('True Negative:', tn)\n",
        "    print('False Positive:', fp)\n",
        "    print('False Negative:', fn)\n",
        "\n",
        "    print('')\n",
        "\n",
        "    precision = tp/(tp+fp)\n",
        "    recall = tp/(tp+fn)\n",
        "    print('Accuracy Data Train:', accuracy_score(y_train, y_pred_train))\n",
        "    print('Precision Data Train:', precision)\n",
        "    print('Recall Data Train:', recall)\n",
        "    print('F1-Score Data Train:', 2 * (precision * recall)/(precision + recall))\n",
        "\n",
        "    y_pred = model.predict(x_test)\n",
        "    print('======= Data Test =======')\n",
        "    print('------')\n",
        "    print('Confusion Matrix:')\n",
        "    print()\n",
        "    print(classification_report(y_test, y_pred))\n",
        "    print('------')\n",
        "\n",
        "    tn, fp, fn, tp = confusion_matrix(y_test, y_pred).ravel()\n",
        "    print('Assuming 1 as positive, we get:')\n",
        "    print('')\n",
        "    print('True Positive:', tp)\n",
        "    print('True Negative:', tn)\n",
        "    print('False Positive:', fp)\n",
        "    print('False Negative:', fn)\n",
        "\n",
        "    print('')\n",
        "\n",
        "    precision = tp/(tp+fp)\n",
        "    recall = tp/(tp+fn)\n",
        "    print('Accuracy:', accuracy_score(y_test, y_pred))\n",
        "    print('Precision Data Test:', precision)\n",
        "    print('Recall Data Test:', recall)\n",
        "    print('F1-Score Data Test:', 2 * (precision * recall)/(precision + recall))"
      ]
    },
    {
      "cell_type": "code",
      "execution_count": 41,
      "id": "53718155",
      "metadata": {
        "colab": {
          "base_uri": "https://localhost:8080/"
        },
        "id": "53718155",
        "outputId": "6bb9b8f3-e7d8-470f-fddc-eb41b3a7a225"
      },
      "outputs": [
        {
          "data": {
            "text/plain": [
              "(17653, 24)"
            ]
          },
          "execution_count": 41,
          "metadata": {},
          "output_type": "execute_result"
        }
      ],
      "source": [
        "X_train.shape"
      ]
    },
    {
      "cell_type": "code",
      "execution_count": 42,
      "id": "82ec3b3a",
      "metadata": {
        "colab": {
          "base_uri": "https://localhost:8080/"
        },
        "id": "82ec3b3a",
        "outputId": "19acb0c6-cfa3-476b-90e1-e5bee64e268a"
      },
      "outputs": [
        {
          "data": {
            "text/plain": [
              "(4414, 24)"
            ]
          },
          "execution_count": 42,
          "metadata": {},
          "output_type": "execute_result"
        }
      ],
      "source": [
        "X_test.shape"
      ]
    },
    {
      "cell_type": "markdown",
      "id": "1865b237",
      "metadata": {
        "id": "1865b237"
      },
      "source": [
        "### Evaluation Using Confusion Matrix"
      ]
    },
    {
      "cell_type": "markdown",
      "id": "c4d78ce6",
      "metadata": {
        "id": "c4d78ce6"
      },
      "source": [
        "### Logistic Regression Evaluation"
      ]
    },
    {
      "cell_type": "code",
      "execution_count": 43,
      "id": "4c4d0d47",
      "metadata": {
        "colab": {
          "base_uri": "https://localhost:8080/"
        },
        "id": "4c4d0d47",
        "outputId": "2ec1f0ab-5753-48e9-ac5c-752e3d16a73a"
      },
      "outputs": [
        {
          "name": "stdout",
          "output_type": "stream",
          "text": [
            "======= Data Train =======\n",
            "------\n",
            "Confusion Matrix Data Train:\n",
            "\n",
            "              precision    recall  f1-score   support\n",
            "\n",
            "           0       0.90      0.80      0.85     14249\n",
            "           1       0.43      0.62      0.50      3404\n",
            "\n",
            "    accuracy                           0.77     17653\n",
            "   macro avg       0.66      0.71      0.68     17653\n",
            "weighted avg       0.81      0.77      0.78     17653\n",
            "\n",
            "------\n",
            "Assuming 1 as positive, we get for Data Train:\n",
            "\n",
            "True Positive: 2094\n",
            "True Negative: 11433\n",
            "False Positive: 2816\n",
            "False Negative: 1310\n",
            "\n",
            "Accuracy Data Train: 0.7662720217526766\n",
            "Precision Data Train: 0.4264765784114053\n",
            "Recall Data Train: 0.6151586368977673\n",
            "F1-Score Data Train: 0.5037286504690882\n",
            "======= Data Test =======\n",
            "------\n",
            "Confusion Matrix:\n",
            "\n",
            "              precision    recall  f1-score   support\n",
            "\n",
            "           0       0.89      0.80      0.84      3544\n",
            "           1       0.41      0.59      0.49       870\n",
            "\n",
            "    accuracy                           0.76      4414\n",
            "   macro avg       0.65      0.69      0.66      4414\n",
            "weighted avg       0.79      0.76      0.77      4414\n",
            "\n",
            "------\n",
            "Assuming 1 as positive, we get:\n",
            "\n",
            "True Positive: 511\n",
            "True Negative: 2823\n",
            "False Positive: 721\n",
            "False Negative: 359\n",
            "\n",
            "Accuracy: 0.7553239691889443\n",
            "Precision Data Test: 0.4147727272727273\n",
            "Recall Data Test: 0.5873563218390805\n",
            "F1-Score Data Test: 0.4862036156041865\n"
          ]
        }
      ],
      "source": [
        "evaluate(logistic_model, x_test = X_test, y_test = y_test, x_train=X_train, y_train=y_train)"
      ]
    },
    {
      "cell_type": "markdown",
      "id": "ed197168",
      "metadata": {
        "id": "ed197168"
      },
      "source": [
        "### KNN Evaluation"
      ]
    },
    {
      "cell_type": "code",
      "execution_count": 44,
      "id": "f276c3e6",
      "metadata": {
        "colab": {
          "base_uri": "https://localhost:8080/"
        },
        "id": "f276c3e6",
        "outputId": "a6bd0e2e-e57c-4ead-c524-9b94c35ad08c"
      },
      "outputs": [
        {
          "name": "stderr",
          "output_type": "stream",
          "text": [
            "c:\\Users\\M S I\\AppData\\Local\\Programs\\Python\\Python38\\lib\\site-packages\\sklearn\\base.py:465: UserWarning: X does not have valid feature names, but KNeighborsClassifier was fitted with feature names\n",
            "  warnings.warn(\n"
          ]
        },
        {
          "name": "stdout",
          "output_type": "stream",
          "text": [
            "======= Data Train =======\n",
            "------\n",
            "Confusion Matrix Data Train:\n",
            "\n",
            "              precision    recall  f1-score   support\n",
            "\n",
            "           0       0.89      0.97      0.93     14249\n",
            "           1       0.78      0.49      0.60      3404\n",
            "\n",
            "    accuracy                           0.87     17653\n",
            "   macro avg       0.83      0.73      0.76     17653\n",
            "weighted avg       0.87      0.87      0.86     17653\n",
            "\n",
            "------\n",
            "Assuming 1 as positive, we get for Data Train:\n",
            "\n",
            "True Positive: 1663\n",
            "True Negative: 13776\n",
            "False Positive: 473\n",
            "False Negative: 1741\n",
            "\n",
            "Accuracy Data Train: 0.8745822239845918\n",
            "Precision Data Train: 0.778558052434457\n",
            "Recall Data Train: 0.48854289071680373\n",
            "F1-Score Data Train: 0.6003610108303249\n",
            "======= Data Test =======\n",
            "------\n",
            "Confusion Matrix:\n",
            "\n"
          ]
        },
        {
          "name": "stderr",
          "output_type": "stream",
          "text": [
            "c:\\Users\\M S I\\AppData\\Local\\Programs\\Python\\Python38\\lib\\site-packages\\sklearn\\base.py:465: UserWarning: X does not have valid feature names, but KNeighborsClassifier was fitted with feature names\n",
            "  warnings.warn(\n"
          ]
        },
        {
          "name": "stdout",
          "output_type": "stream",
          "text": [
            "              precision    recall  f1-score   support\n",
            "\n",
            "           0       0.86      0.94      0.90      3544\n",
            "           1       0.60      0.37      0.45       870\n",
            "\n",
            "    accuracy                           0.83      4414\n",
            "   macro avg       0.73      0.65      0.68      4414\n",
            "weighted avg       0.81      0.83      0.81      4414\n",
            "\n",
            "------\n",
            "Assuming 1 as positive, we get:\n",
            "\n",
            "True Positive: 318\n",
            "True Negative: 3334\n",
            "False Positive: 210\n",
            "False Negative: 552\n",
            "\n",
            "Accuracy: 0.8273674671499773\n",
            "Precision Data Test: 0.6022727272727273\n",
            "Recall Data Test: 0.36551724137931035\n",
            "F1-Score Data Test: 0.45493562231759654\n"
          ]
        }
      ],
      "source": [
        "evaluate(knn_clf, x_test = X_test.values, y_test = y_test, x_train=X_train.values, y_train=y_train)"
      ]
    },
    {
      "cell_type": "markdown",
      "id": "7d2f91c0",
      "metadata": {
        "id": "7d2f91c0"
      },
      "source": [
        "### Decision Tree Evaluation"
      ]
    },
    {
      "cell_type": "code",
      "execution_count": 45,
      "id": "72c58097",
      "metadata": {
        "colab": {
          "base_uri": "https://localhost:8080/"
        },
        "id": "72c58097",
        "outputId": "28fd7db5-283a-40e1-f534-aceb9cec4db0"
      },
      "outputs": [
        {
          "name": "stdout",
          "output_type": "stream",
          "text": [
            "======= Data Train =======\n",
            "------\n",
            "Confusion Matrix Data Train:\n",
            "\n",
            "              precision    recall  f1-score   support\n",
            "\n",
            "           0       1.00      1.00      1.00     14249\n",
            "           1       1.00      1.00      1.00      3404\n",
            "\n",
            "    accuracy                           1.00     17653\n",
            "   macro avg       1.00      1.00      1.00     17653\n",
            "weighted avg       1.00      1.00      1.00     17653\n",
            "\n",
            "------\n",
            "Assuming 1 as positive, we get for Data Train:\n",
            "\n",
            "True Positive: 3404\n",
            "True Negative: 14249\n",
            "False Positive: 0\n",
            "False Negative: 0\n",
            "\n",
            "Accuracy Data Train: 1.0\n",
            "Precision Data Train: 1.0\n",
            "Recall Data Train: 1.0\n",
            "F1-Score Data Train: 1.0\n",
            "======= Data Test =======\n",
            "------\n",
            "Confusion Matrix:\n",
            "\n",
            "              precision    recall  f1-score   support\n",
            "\n",
            "           0       0.86      0.86      0.86      3544\n",
            "           1       0.44      0.44      0.44       870\n",
            "\n",
            "    accuracy                           0.78      4414\n",
            "   macro avg       0.65      0.65      0.65      4414\n",
            "weighted avg       0.78      0.78      0.78      4414\n",
            "\n",
            "------\n",
            "Assuming 1 as positive, we get:\n",
            "\n",
            "True Positive: 387\n",
            "True Negative: 3043\n",
            "False Positive: 501\n",
            "False Negative: 483\n",
            "\n",
            "Accuracy: 0.7770729497054826\n",
            "Precision Data Test: 0.4358108108108108\n",
            "Recall Data Test: 0.44482758620689655\n",
            "F1-Score Data Test: 0.44027303754266206\n"
          ]
        }
      ],
      "source": [
        "evaluate(dt_clf, x_test = X_test, y_test = y_test, x_train=X_train, y_train=y_train)"
      ]
    },
    {
      "cell_type": "markdown",
      "id": "2cb969ee",
      "metadata": {
        "id": "2cb969ee"
      },
      "source": [
        "### SVM Evaluation"
      ]
    },
    {
      "cell_type": "code",
      "execution_count": 46,
      "id": "661dd57e",
      "metadata": {
        "colab": {
          "base_uri": "https://localhost:8080/"
        },
        "id": "661dd57e",
        "outputId": "a6070ca1-36e5-4ca7-a2e1-5a7e26447e4d"
      },
      "outputs": [
        {
          "name": "stderr",
          "output_type": "stream",
          "text": [
            "c:\\Users\\M S I\\AppData\\Local\\Programs\\Python\\Python38\\lib\\site-packages\\sklearn\\base.py:465: UserWarning: X does not have valid feature names, but SVC was fitted with feature names\n",
            "  warnings.warn(\n"
          ]
        },
        {
          "name": "stdout",
          "output_type": "stream",
          "text": [
            "======= Data Train =======\n",
            "------\n",
            "Confusion Matrix Data Train:\n",
            "\n",
            "              precision    recall  f1-score   support\n",
            "\n",
            "           0       0.87      0.89      0.88     14249\n",
            "           1       0.51      0.46      0.48      3404\n",
            "\n",
            "    accuracy                           0.81     17653\n",
            "   macro avg       0.69      0.68      0.68     17653\n",
            "weighted avg       0.80      0.81      0.81     17653\n",
            "\n",
            "------\n",
            "Assuming 1 as positive, we get for Data Train:\n",
            "\n",
            "True Positive: 1574\n",
            "True Negative: 12715\n",
            "False Positive: 1534\n",
            "False Negative: 1830\n",
            "\n",
            "Accuracy Data Train: 0.8094374893785758\n",
            "Precision Data Train: 0.5064350064350064\n",
            "Recall Data Train: 0.46239717978848416\n",
            "F1-Score Data Train: 0.4834152334152334\n"
          ]
        },
        {
          "name": "stderr",
          "output_type": "stream",
          "text": [
            "c:\\Users\\M S I\\AppData\\Local\\Programs\\Python\\Python38\\lib\\site-packages\\sklearn\\base.py:465: UserWarning: X does not have valid feature names, but SVC was fitted with feature names\n",
            "  warnings.warn(\n"
          ]
        },
        {
          "name": "stdout",
          "output_type": "stream",
          "text": [
            "======= Data Test =======\n",
            "------\n",
            "Confusion Matrix:\n",
            "\n",
            "              precision    recall  f1-score   support\n",
            "\n",
            "           0       0.87      0.88      0.87      3544\n",
            "           1       0.48      0.45      0.46       870\n",
            "\n",
            "    accuracy                           0.79      4414\n",
            "   macro avg       0.67      0.66      0.67      4414\n",
            "weighted avg       0.79      0.79      0.79      4414\n",
            "\n",
            "------\n",
            "Assuming 1 as positive, we get:\n",
            "\n",
            "True Positive: 391\n",
            "True Negative: 3117\n",
            "False Positive: 427\n",
            "False Negative: 479\n",
            "\n",
            "Accuracy: 0.7947439963751699\n",
            "Precision Data Test: 0.4779951100244499\n",
            "Recall Data Test: 0.4494252873563218\n",
            "F1-Score Data Test: 0.4632701421800947\n"
          ]
        }
      ],
      "source": [
        "evaluate(svm_clf, x_test = X_test.values, y_test = y_test, x_train=X_train.values, y_train=y_train)"
      ]
    },
    {
      "cell_type": "markdown",
      "id": "47a08c37",
      "metadata": {
        "id": "47a08c37"
      },
      "source": [
        "### Create a dataframe from the evaluation results of all models."
      ]
    },
    {
      "cell_type": "code",
      "execution_count": 47,
      "id": "8880e6d5",
      "metadata": {
        "id": "8880e6d5"
      },
      "outputs": [],
      "source": [
        "def evaluate_model(model, x_train, y_train, x_test, y_test, model_name, evaluation_df):\n",
        "\n",
        "    y_pred = model.predict(x_train)\n",
        "\n",
        "    accuracy = accuracy_score(y_train, y_pred)\n",
        "    precision = precision_score(y_train, y_pred)\n",
        "    recall = recall_score(y_train, y_pred)\n",
        "    f1 = f1_score(y_train, y_pred)\n",
        "\n",
        "    result = pd.DataFrame({\n",
        "        'Model': [model_name + ' - Train'],\n",
        "        'Accuracy': [accuracy],\n",
        "        'Precision': [precision],\n",
        "        'Recall': [recall],\n",
        "        'F1-Score': [f1]\n",
        "    })\n",
        "\n",
        "    evaluation_df = pd.concat([evaluation_df, result], ignore_index=True)\n",
        "\n",
        "    y_pred = model.predict(x_test)\n",
        "\n",
        "    accuracy = accuracy_score(y_test, y_pred)\n",
        "    precision = precision_score(y_test, y_pred)\n",
        "    recall = recall_score(y_test, y_pred)\n",
        "    f1 = f1_score(y_test, y_pred)\n",
        "\n",
        "    result = pd.DataFrame({\n",
        "        'Model': [model_name + ' - Test'],\n",
        "        'Accuracy': [accuracy],\n",
        "        'Precision': [precision],\n",
        "        'Recall': [recall],\n",
        "        'F1-Score': [f1]\n",
        "    })\n",
        "\n",
        "    evaluation_df = pd.concat([evaluation_df, result], ignore_index=True)\n",
        "\n",
        "    return evaluation_df"
      ]
    },
    {
      "cell_type": "code",
      "execution_count": 48,
      "id": "5927f209",
      "metadata": {
        "colab": {
          "base_uri": "https://localhost:8080/",
          "height": 356
        },
        "id": "5927f209",
        "outputId": "4a7089f1-b54d-4b32-9a84-1beeeacadd92"
      },
      "outputs": [
        {
          "data": {
            "text/html": [
              "<div>\n",
              "<style scoped>\n",
              "    .dataframe tbody tr th:only-of-type {\n",
              "        vertical-align: middle;\n",
              "    }\n",
              "\n",
              "    .dataframe tbody tr th {\n",
              "        vertical-align: top;\n",
              "    }\n",
              "\n",
              "    .dataframe thead th {\n",
              "        text-align: right;\n",
              "    }\n",
              "</style>\n",
              "<table border=\"1\" class=\"dataframe\">\n",
              "  <thead>\n",
              "    <tr style=\"text-align: right;\">\n",
              "      <th></th>\n",
              "      <th>Model</th>\n",
              "      <th>Accuracy</th>\n",
              "      <th>Precision</th>\n",
              "      <th>Recall</th>\n",
              "      <th>F1-Score</th>\n",
              "    </tr>\n",
              "  </thead>\n",
              "  <tbody>\n",
              "    <tr>\n",
              "      <th>0</th>\n",
              "      <td>LogReg - Train</td>\n",
              "      <td>0.766272</td>\n",
              "      <td>0.426477</td>\n",
              "      <td>0.615159</td>\n",
              "      <td>0.503729</td>\n",
              "    </tr>\n",
              "    <tr>\n",
              "      <th>1</th>\n",
              "      <td>LogReg - Test</td>\n",
              "      <td>0.755324</td>\n",
              "      <td>0.414773</td>\n",
              "      <td>0.587356</td>\n",
              "      <td>0.486204</td>\n",
              "    </tr>\n",
              "    <tr>\n",
              "      <th>2</th>\n",
              "      <td>knn - Train</td>\n",
              "      <td>0.874582</td>\n",
              "      <td>0.778558</td>\n",
              "      <td>0.488543</td>\n",
              "      <td>0.600361</td>\n",
              "    </tr>\n",
              "    <tr>\n",
              "      <th>3</th>\n",
              "      <td>knn - Test</td>\n",
              "      <td>0.827367</td>\n",
              "      <td>0.602273</td>\n",
              "      <td>0.365517</td>\n",
              "      <td>0.454936</td>\n",
              "    </tr>\n",
              "    <tr>\n",
              "      <th>4</th>\n",
              "      <td>dt - Train</td>\n",
              "      <td>1.000000</td>\n",
              "      <td>1.000000</td>\n",
              "      <td>1.000000</td>\n",
              "      <td>1.000000</td>\n",
              "    </tr>\n",
              "    <tr>\n",
              "      <th>5</th>\n",
              "      <td>dt - Test</td>\n",
              "      <td>0.777073</td>\n",
              "      <td>0.435811</td>\n",
              "      <td>0.444828</td>\n",
              "      <td>0.440273</td>\n",
              "    </tr>\n",
              "    <tr>\n",
              "      <th>6</th>\n",
              "      <td>svm - Train</td>\n",
              "      <td>0.809437</td>\n",
              "      <td>0.506435</td>\n",
              "      <td>0.462397</td>\n",
              "      <td>0.483415</td>\n",
              "    </tr>\n",
              "    <tr>\n",
              "      <th>7</th>\n",
              "      <td>svm - Test</td>\n",
              "      <td>0.794744</td>\n",
              "      <td>0.477995</td>\n",
              "      <td>0.449425</td>\n",
              "      <td>0.463270</td>\n",
              "    </tr>\n",
              "  </tbody>\n",
              "</table>\n",
              "</div>"
            ],
            "text/plain": [
              "            Model  Accuracy  Precision    Recall  F1-Score\n",
              "0  LogReg - Train  0.766272   0.426477  0.615159  0.503729\n",
              "1   LogReg - Test  0.755324   0.414773  0.587356  0.486204\n",
              "2     knn - Train  0.874582   0.778558  0.488543  0.600361\n",
              "3      knn - Test  0.827367   0.602273  0.365517  0.454936\n",
              "4      dt - Train  1.000000   1.000000  1.000000  1.000000\n",
              "5       dt - Test  0.777073   0.435811  0.444828  0.440273\n",
              "6     svm - Train  0.809437   0.506435  0.462397  0.483415\n",
              "7      svm - Test  0.794744   0.477995  0.449425  0.463270"
            ]
          },
          "execution_count": 48,
          "metadata": {},
          "output_type": "execute_result"
        }
      ],
      "source": [
        "evaluation_df = pd.DataFrame(columns=['Model', 'Accuracy', 'Precision', 'Recall', 'F1-Score'])\n",
        "evaluation_df = evaluate_model(logistic_model, X_train,y_train,\n",
        "                               X_test,y_test,'LogReg',evaluation_df)\n",
        "evaluation_df = evaluate_model(knn_clf, X_train,y_train,\n",
        "                               X_test,y_test,'knn',evaluation_df)\n",
        "evaluation_df = evaluate_model(dt_clf, X_train,y_train,\n",
        "                               X_test,y_test,'dt',evaluation_df)\n",
        "evaluation_df = evaluate_model(svm_clf, X_train,y_train,\n",
        "                               X_test,y_test,'svm',evaluation_df)\n",
        "evaluation_df"
      ]
    },
    {
      "cell_type": "markdown",
      "id": "eaca142b",
      "metadata": {
        "id": "eaca142b"
      },
      "source": [
        "From the results of the 4 models above, it can be seen that the better recall is logistic regression with a train of 61.51% and a test of 58.73%, as well as the F1-score.\n",
        "Then I use logistic regression to calculate the potential profit of the business."
      ]
    },
    {
      "cell_type": "markdown",
      "id": "0012b8ca",
      "metadata": {
        "id": "0012b8ca"
      },
      "source": [
        "## Cumulative Gain Plot"
      ]
    },
    {
      "cell_type": "code",
      "execution_count": 49,
      "id": "f1805f45",
      "metadata": {
        "colab": {
          "base_uri": "https://localhost:8080/",
          "height": 472
        },
        "id": "f1805f45",
        "outputId": "fb2bbc5e-cc6e-40ca-9e21-adf050c553a8"
      },
      "outputs": [
        {
          "data": {
            "image/png": "[encoded data removed]",
            "text/plain": [
              "<Figure size 640x480 with 1 Axes>"
            ]
          },
          "metadata": {},
          "output_type": "display_data"
        }
      ],
      "source": [
        "import scikitplot as skplt\n",
        "import matplotlib.pyplot as plt\n",
        "import numpy as np\n",
        "\n",
        "skplt.metrics.plot_cumulative_gain(y_test, logistic_model.predict_proba(X_test))\n",
        "\n",
        "plt.xticks(np.arange(0.0, 1.1, 0.1))\n",
        "plt.yticks(np.arange(0.0, 1.1, 0.1))\n",
        "plt.grid(True)\n",
        "plt.show()\n"
      ]
    },
    {
      "cell_type": "markdown",
      "id": "THzGu0AiBEBh",
      "metadata": {
        "id": "THzGu0AiBEBh"
      },
      "source": [
        "## Lift Chart"
      ]
    },
    {
      "cell_type": "code",
      "execution_count": 50,
      "id": "cad299d5",
      "metadata": {
        "colab": {
          "base_uri": "https://localhost:8080/",
          "height": 490
        },
        "id": "cad299d5",
        "outputId": "5913c801-9407-4dec-acbc-ab1db0c99a67"
      },
      "outputs": [
        {
          "data": {
            "text/plain": [
              "<Axes: title={'center': 'Lift Curve'}, xlabel='Percentage of sample', ylabel='Lift'>"
            ]
          },
          "execution_count": 50,
          "metadata": {},
          "output_type": "execute_result"
        },
        {
          "data": {
            "image/png": "[encoded data removed]",
            "text/plain": [
              "<Figure size 640x480 with 1 Axes>"
            ]
          },
          "metadata": {},
          "output_type": "display_data"
        }
      ],
      "source": [
        "skplt.metrics.plot_lift_curve(y_test, logistic_model.predict_proba(X_test))"
      ]
    },
    {
      "cell_type": "markdown",
      "id": "8EUn-ddkBtdC",
      "metadata": {
        "id": "8EUn-ddkBtdC"
      },
      "source": [
        "## Customer Churn Prediction Model Performance"
      ]
    },
    {
      "cell_type": "code",
      "execution_count": 51,
      "id": "c81182fb",
      "metadata": {
        "id": "c81182fb"
      },
      "outputs": [],
      "source": [
        "from sklearn.metrics import confusion_matrix\n",
        "def value_prediction(y_actual, y_prediction):\n",
        "    tn, fp, fn, tp = confusion_matrix(y_actual, y_prediction).ravel()\n",
        "    print('TN :',tn)\n",
        "    print('TP :',tp)\n",
        "    print('FN :',fn)\n",
        "    print('FP :',fp)"
      ]
    },
    {
      "cell_type": "code",
      "execution_count": 52,
      "id": "8b13d260",
      "metadata": {
        "colab": {
          "base_uri": "https://localhost:8080/"
        },
        "id": "8b13d260",
        "outputId": "7385d86b-2c0f-4dde-fa77-0288c0e36b85"
      },
      "outputs": [
        {
          "name": "stdout",
          "output_type": "stream",
          "text": [
            "TN : 2823\n",
            "TP : 511\n",
            "FN : 359\n",
            "FP : 721\n"
          ]
        }
      ],
      "source": [
        "value_prediction(y_test, logistic_model.predict(X_test))"
      ]
    },
    {
      "cell_type": "code",
      "execution_count": 53,
      "id": "de3d7066",
      "metadata": {
        "id": "de3d7066"
      },
      "outputs": [],
      "source": [
        "def get_value(y_actual, y_prediction):\n",
        "    tn, fp, fn, tp = confusion_matrix(y_actual, y_prediction).ravel()\n",
        "    return tn, fp, fn, tp"
      ]
    },
    {
      "cell_type": "code",
      "execution_count": 54,
      "id": "5d0eb2b1",
      "metadata": {
        "colab": {
          "base_uri": "https://localhost:8080/"
        },
        "id": "5d0eb2b1",
        "outputId": "8de79057-41a1-49ca-f6ad-7db05b5f64e1"
      },
      "outputs": [
        {
          "name": "stdout",
          "output_type": "stream",
          "text": [
            "AI-ML class 1 prediction (churn) : 1232\n",
            "AI-ML class 0 prediction (No churn) : 3182\n"
          ]
        }
      ],
      "source": [
        "tn, fp, fn,tp = get_value(y_test, logistic_model.predict(X_test))\n",
        "class_1 = tp+fp\n",
        "print('AI-ML class 1 prediction (churn) :', class_1)\n",
        "class_0 = tn+fn\n",
        "print('AI-ML class 0 prediction (No churn) :', class_0)"
      ]
    },
    {
      "cell_type": "code",
      "execution_count": 55,
      "id": "4ca400e2",
      "metadata": {
        "colab": {
          "base_uri": "https://localhost:8080/",
          "height": 178
        },
        "id": "4ca400e2",
        "outputId": "bb61f077-c0c9-4ebc-d015-e305ec7999a2"
      },
      "outputs": [
        {
          "data": {
            "text/plain": [
              "0    3182\n",
              "1    1232\n",
              "dtype: int64"
            ]
          },
          "execution_count": 55,
          "metadata": {},
          "output_type": "execute_result"
        }
      ],
      "source": [
        "y_pred = pd.DataFrame(logistic_model.predict(X_test))\n",
        "y_pred.value_counts()"
      ]
    },
    {
      "cell_type": "code",
      "execution_count": 56,
      "id": "db50a83d",
      "metadata": {
        "colab": {
          "base_uri": "https://localhost:8080/"
        },
        "id": "db50a83d",
        "outputId": "6bf295fd-4a5c-4a0f-a78d-edcc904223a6"
      },
      "outputs": [
        {
          "name": "stdout",
          "output_type": "stream",
          "text": [
            "total data on X_test : 4414\n"
          ]
        }
      ],
      "source": [
        "print('total data on X_test :', 1225+3189)"
      ]
    },
    {
      "cell_type": "code",
      "execution_count": 57,
      "id": "eb3c1fad",
      "metadata": {
        "colab": {
          "base_uri": "https://localhost:8080/"
        },
        "id": "eb3c1fad",
        "outputId": "26064683-faa6-415b-b406-f6ed5d9ceab4"
      },
      "outputs": [
        {
          "name": "stdout",
          "output_type": "stream",
          "text": [
            "Total population: 4414 people\n",
            "45% sample of the entire class 1 and 0: 1986.3 people\n",
            "Number of % responders (Gain) who are likely to churn: 924.0 people\n"
          ]
        }
      ],
      "source": [
        "print(f'Total population: {len(X_test)} people')\n",
        "print(f'45% sample of the entire class 1 and 0: {0.45 * len(X_test)} people')\n",
        "print(f'Number of % responders (Gain) who are likely to churn: {0.75 * class_1} people')"
      ]
    },
    {
      "cell_type": "code",
      "execution_count": 58,
      "id": "bc42dbba",
      "metadata": {
        "colab": {
          "base_uri": "https://localhost:8080/",
          "height": 253
        },
        "id": "bc42dbba",
        "outputId": "64fb7a19-cc41-4cc1-84bf-02bcc1552e48"
      },
      "outputs": [
        {
          "name": "stdout",
          "output_type": "stream",
          "text": [
            "1 = person who churned\n",
            "0 = person who did not churn\n",
            "But in fact, after we conducted promotions over a certain period, we obtained the following results:\n"
          ]
        },
        {
          "data": {
            "text/plain": [
              "0    3544\n",
              "1     870\n",
              "Name: churn, dtype: int64"
            ]
          },
          "execution_count": 58,
          "metadata": {},
          "output_type": "execute_result"
        }
      ],
      "source": [
        "print('1 = person who churned')\n",
        "print('0 = person who did not churn')\n",
        "print('But in fact, after we conducted promotions over a certain period, we obtained the following results:')\n",
        "y_test.value_counts()"
      ]
    },
    {
      "cell_type": "code",
      "execution_count": 59,
      "id": "11c09a75",
      "metadata": {
        "colab": {
          "base_uri": "https://localhost:8080/"
        },
        "id": "11c09a75",
        "outputId": "b52279f2-fc99-4022-91be-7c1348bfc389"
      },
      "outputs": [
        {
          "name": "stdout",
          "output_type": "stream",
          "text": [
            "In fact, the number of people who did not churn (Failed Prediction): 54.0 people\n",
            "The actual number of people who churned is: 870 people\n",
            "Moreover, according to the lift chart, with a 45% sample, we achieved almost 1.5x better performance compared to random sampling from the prediction results\n"
          ]
        }
      ],
      "source": [
        "print(f'In fact, the number of people who did not churn (Failed Prediction): {0.75 * class_1 - 870} people')\n",
        "print(f'The actual number of people who churned is: {870} people')\n",
        "print('Moreover, according to the lift chart, with a 45% sample, we achieved almost 1.5x better performance compared to random sampling from the prediction results')"
      ]
    },
    {
      "cell_type": "code",
      "execution_count": 60,
      "id": "d7c93355",
      "metadata": {
        "colab": {
          "base_uri": "https://localhost:8080/"
        },
        "id": "d7c93355",
        "outputId": "c07fc51b-0264-4e67-f546-be4e641338df"
      },
      "outputs": [
        {
          "data": {
            "text/plain": [
              "array([1, 0, 0, ..., 0, 0, 0], dtype=int64)"
            ]
          },
          "execution_count": 60,
          "metadata": {},
          "output_type": "execute_result"
        }
      ],
      "source": [
        "#data actual\n",
        "np.array(y_test)"
      ]
    },
    {
      "cell_type": "code",
      "execution_count": 61,
      "id": "2afa9d1f",
      "metadata": {
        "colab": {
          "base_uri": "https://localhost:8080/"
        },
        "id": "2afa9d1f",
        "outputId": "f50b9c25-15ab-4415-e32b-1e5f1263e58e"
      },
      "outputs": [
        {
          "data": {
            "text/plain": [
              "array([1, 0, 0, ..., 1, 0, 0], dtype=int64)"
            ]
          },
          "execution_count": 61,
          "metadata": {},
          "output_type": "execute_result"
        }
      ],
      "source": [
        "#Value Prediction\n",
        "logistic_model.predict(X_test)"
      ]
    },
    {
      "cell_type": "markdown",
      "id": "0676b324",
      "metadata": {
        "id": "0676b324"
      },
      "source": [
        "### Random sampling performance (random sampling of customers who are likely to churn)"
      ]
    },
    {
      "cell_type": "code",
      "execution_count": 62,
      "id": "daaf17ce",
      "metadata": {
        "colab": {
          "base_uri": "https://localhost:8080/"
        },
        "id": "daaf17ce",
        "outputId": "c4458206-9ddc-4f41-b29a-94f317bffa82"
      },
      "outputs": [
        {
          "name": "stdout",
          "output_type": "stream",
          "text": [
            "The number of people who churn: 554.4 people\n",
            "Actually, the number of people who did not churn (Failed Prediction): -315.6 people\n",
            "With the potential lift chart being 1x, based on a random sample from the prediction results\n"
          ]
        }
      ],
      "source": [
        "# From the gain chart above, if we take a 45% sample, we will get 45% of the churn customer respondents\n",
        "# Thus, the potential results are:\n",
        "\n",
        "print(f'The number of people who churn: {0.45 * class_1} people')\n",
        "print(f'Actually, the number of people who did not churn (Failed Prediction): {0.45 * class_1 - 870} people')\n",
        "print(f'With the potential lift chart being 1x, based on a random sample from the prediction results')"
      ]
    },
    {
      "cell_type": "markdown",
      "id": "1BxGoMT-MNqz",
      "metadata": {
        "id": "1BxGoMT-MNqz"
      },
      "source": [
        "### Linkedin Post Links : https://www.linkedin.com/posts/naurah-nazhifah-73a936234_google-colaboratory-activity-7164603251240132608-NMPG?utm_source=share&utm_medium=member_desktop"
      ]
    }
  ],
  "metadata": {
    "colab": {
      "provenance": []
    },
    "kernelspec": {
      "display_name": "Python 3 (ipykernel)",
      "language": "python",
      "name": "python3"
    },
    "language_info": {
      "codemirror_mode": {
        "name": "ipython",
        "version": 3
      },
      "file_extension": ".py",
      "mimetype": "text/x-python",
      "name": "python",
      "nbconvert_exporter": "python",
      "pygments_lexer": "ipython3",
      "version": "3.8.7"
    }
  },
  "nbformat": 4,
  "nbformat_minor": 5
}
